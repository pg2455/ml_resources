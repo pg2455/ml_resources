{
  "nbformat": 4,
  "nbformat_minor": 0,
  "metadata": {
    "colab": {
      "name": "COVID-diagnosis.ipynb",
      "provenance": [],
      "collapsed_sections": [],
      "toc_visible": true,
      "include_colab_link": true
    },
    "kernelspec": {
      "name": "python3",
      "display_name": "Python 3"
    },
    "language_info": {
      "name": "python"
    }
  },
  "cells": [
    {
      "cell_type": "markdown",
      "metadata": {
        "id": "view-in-github",
        "colab_type": "text"
      },
      "source": [
        "<a href=\"https://colab.research.google.com/github/pg2455/hackathons/blob/master/COVID_diagnosis.ipynb\" target=\"_parent\"><img src=\"https://colab.research.google.com/assets/colab-badge.svg\" alt=\"Open In Colab\"/></a>"
      ]
    },
    {
      "cell_type": "markdown",
      "metadata": {
        "id": "GFzda9am9vnj"
      },
      "source": [
        "# Covid-19 diagnosis using symptoms\n",
        "\n",
        "[Prateek Gupta](https://www.pgupta.info) \n",
        "\n",
        "2020-05-20\n",
        "\n",
        "**Abstract:** This notebook is a tutorial on building a typical machine learning classifier. \n",
        "The process of doing so span steps ranging from data wrangling to model selection. \n",
        "With the help of each of these steps we hope to make the reader familiar with challenges involved in building a machine learning system. \n",
        "\n",
        "# Question\n",
        "\n",
        "In this tutorial, we want to build a machine learning model to predict COVID-19 infections from symptoms.\n",
        "It has several applications, for example, triaging patients to be attended by a doctor or nurse, recommending self-isolation through contact tracing apps. \n",
        "\n",
        "Zoabi et al. [[1]](https://www.nature.com/articles/s41746-020-00372-6) builds a decision tree classifier using the publicly available data reported by the Israeli Ministry of Health.\n",
        "The paper itself dicsusses the various challenges encountered in deploying such a model. \n",
        "It is encouraged to read the paper and learn the challeges and ways to overcome them. \n",
        "\n",
        "However, in this tutorial, we will use their dataset and make the reader familiar with a typical pipeline of building a machine learning system.\n",
        "As we go through the tutorial, we will also be listing out things to try. \n",
        "\n",
        "[1] [Zoabi, Y., Deri-Rozov, S. & Shomron, N. Machine learning-based prediction of COVID-19 diagnosis based on symptoms. npj Digit. Med. 4, 3 (2021).]((https://www.nature.com/articles/s41746-020-00372-6))\n"
      ]
    },
    {
      "cell_type": "markdown",
      "metadata": {
        "id": "WfQWCQDjAKN0"
      },
      "source": [
        "# Setup the workspace\n",
        "\n",
        "We will clone their Git repository to to use their dataset"
      ]
    },
    {
      "cell_type": "code",
      "metadata": {
        "colab": {
          "base_uri": "https://localhost:8080/"
        },
        "id": "yguOIEDX-YbD",
        "outputId": "b883c322-0614-401e-ccc4-9688938ad1af"
      },
      "source": [
        "!git clone https://github.com/nshomron/covidpred.git"
      ],
      "execution_count": null,
      "outputs": [
        {
          "output_type": "stream",
          "text": [
            "Cloning into 'covidpred'...\n",
            "remote: Enumerating objects: 35, done.\u001b[K\n",
            "remote: Counting objects: 100% (35/35), done.\u001b[K\n",
            "remote: Compressing objects: 100% (32/32), done.\u001b[K\n",
            "remote: Total 35 (delta 16), reused 10 (delta 3), pack-reused 0\u001b[K\n",
            "Unpacking objects: 100% (35/35), done.\n"
          ],
          "name": "stdout"
        }
      ]
    },
    {
      "cell_type": "code",
      "metadata": {
        "id": "35jfRmroICGw"
      },
      "source": [
        "import pandas as pd\n",
        "import math\n",
        "import numpy as np\n",
        "\n",
        "from sklearn.preprocessing import OneHotEncoder\n",
        "from sklearn.preprocessing import LabelBinarizer\n",
        "from sklearn.linear_model import LogisticRegression\n",
        "from sklearn.metrics import plot_roc_curve, roc_auc_score, roc_curve\n",
        "\n",
        "import matplotlib.pyplot as plt\n",
        "from matplotlib.lines import Line2D"
      ],
      "execution_count": null,
      "outputs": []
    },
    {
      "cell_type": "markdown",
      "metadata": {
        "id": "kv6FR_gOAV16"
      },
      "source": [
        "# Data \n",
        "\n",
        "Let's check how the data looks like and how various features are encoded. "
      ]
    },
    {
      "cell_type": "code",
      "metadata": {
        "colab": {
          "base_uri": "https://localhost:8080/"
        },
        "id": "P7tANpd5-tqj",
        "outputId": "98096b64-c733-4c43-8cbe-4d3f5abcea3f"
      },
      "source": [
        "df = pd.read_csv('covidpred/data/corona_tested_individuals_ver_006.english.csv.zip')"
      ],
      "execution_count": null,
      "outputs": [
        {
          "output_type": "stream",
          "text": [
            "/usr/local/lib/python3.7/dist-packages/IPython/core/interactiveshell.py:2718: DtypeWarning: Columns (1,2,3,4,5) have mixed types.Specify dtype option on import or set low_memory=False.\n",
            "  interactivity=interactivity, compiler=compiler, result=result)\n"
          ],
          "name": "stderr"
        }
      ]
    },
    {
      "cell_type": "code",
      "metadata": {
        "colab": {
          "base_uri": "https://localhost:8080/"
        },
        "id": "LXaLQdbBAElY",
        "outputId": "3501d509-7250-496e-bb59-cfc5d9249d81"
      },
      "source": [
        "df.columns"
      ],
      "execution_count": null,
      "outputs": [
        {
          "output_type": "execute_result",
          "data": {
            "text/plain": [
              "Index(['test_date', 'cough', 'fever', 'sore_throat', 'shortness_of_breath',\n",
              "       'head_ache', 'corona_result', 'age_60_and_above', 'gender',\n",
              "       'test_indication'],\n",
              "      dtype='object')"
            ]
          },
          "metadata": {
            "tags": []
          },
          "execution_count": 4
        }
      ]
    },
    {
      "cell_type": "markdown",
      "metadata": {
        "id": "RWHY4TLAAhpJ"
      },
      "source": [
        "Great! These are the features used in the paper for their prediction task. The authors also list these features in the [README.md of their Github repo](https://github.com/nshomron/covidpred). "
      ]
    },
    {
      "cell_type": "markdown",
      "metadata": {
        "id": "PEtPMd2qGn72"
      },
      "source": [
        "Pandas read columns as string, so we need to convert them to the proper format before we can operate on it."
      ]
    },
    {
      "cell_type": "code",
      "metadata": {
        "id": "Zi7esn5RGdC8"
      },
      "source": [
        "df['test_date'] = pd.to_datetime(df['test_date'])"
      ],
      "execution_count": null,
      "outputs": []
    },
    {
      "cell_type": "code",
      "metadata": {
        "colab": {
          "base_uri": "https://localhost:8080/"
        },
        "id": "Mdb3D7Y5BdTt",
        "outputId": "75a9cc98-8a8a-4764-a7df-208cc85202d9"
      },
      "source": [
        "print(\"Start date:\", min(df['test_date']))\n",
        "print(\"End date:\", max(df['test_date']))\n",
        "\n",
        "n_days = (max(df['test_date']) - min(df['test_date'])).days\n",
        "print(\"# of days: \", n_days)\n",
        "\n",
        "n_obs =  df.shape[0]\n",
        "print(\"# of observations:\", df.shape[0])\n",
        "print(\"# of features:\", df.shape[1])\n",
        "\n",
        "pos_cases = sum(df['corona_result'] == \"positive\")\n",
        "print(\"# of positively diagnosed cases: {0} ({1: 2.2f}%)\".format(pos_cases, 100*pos_cases / n_obs))\n",
        "\n",
        "neg_cases = sum(df['corona_result'] == \"negative\")\n",
        "print(\"# of negatively diagnosed cases: {0} ({1: 2.2f}%)\".format(neg_cases, 100 * neg_cases / n_obs))\n",
        "\n",
        "other_cases = sum(df['corona_result'] == \"other\") # possibly not confirmed\n",
        "print(\"# of other cases (possibly, not confirmed): {0} ({1: 2.2f}%)\".format(other_cases, 100 * other_cases / n_obs))"
      ],
      "execution_count": null,
      "outputs": [
        {
          "output_type": "stream",
          "text": [
            "Start date: 2020-03-11 00:00:00\n",
            "End date: 2020-04-30 00:00:00\n",
            "# of days:  50\n",
            "# of observations: 278848\n",
            "# of features: 10\n",
            "# of positively diagnosed cases: 14729 ( 5.28%)\n",
            "# of negatively diagnosed cases: 260227 ( 93.32%)\n",
            "# of other cases (possibly, not confirmed): 3892 ( 1.40%)\n"
          ],
          "name": "stdout"
        }
      ]
    },
    {
      "cell_type": "markdown",
      "metadata": {
        "id": "7guFsw8K-Cvy"
      },
      "source": [
        "Since we do not have any information on what happened to \"other\" cases, we will exclude them from our exercise. \n",
        "\n"
      ]
    },
    {
      "cell_type": "code",
      "metadata": {
        "id": "I-2eeGvK-Bxv"
      },
      "source": [
        "df = df[df['corona_result'].isin(['positive', 'negative'])]"
      ],
      "execution_count": null,
      "outputs": []
    },
    {
      "cell_type": "markdown",
      "metadata": {
        "id": "4hG2lfabKr1e"
      },
      "source": [
        "To build out predictor, we will be splitting our dataset into **training,  validation, and test sets**. \n",
        "A model is trained on the training dataset while the hyperparameters are tuned on the validation dataset. \n",
        "Finally, a test dataset is used to report final model's performance metrics. \n",
        "\n",
        "Since we have a time dependent dataset we will split our training and test dataset based on time. \n",
        "Thus, we find the date before which 600% of observations are present, and use that as our training dataset.\n",
        "We will use next 20% of the dataset as our validation dataset, and finally, the remaining 20% will be used as a test dataset. \n",
        "Thus, we use 60-20-20 split.\n",
        "\n",
        "The authors use 63%-23% training-test split, and a further split of training into train-valid dataset using 80-20% split.\n",
        "There is no prescribed formula on how to do this split. \n",
        "\n"
      ]
    },
    {
      "cell_type": "code",
      "metadata": {
        "id": "s0dEh77THGW6"
      },
      "source": [
        "date_counts = df.groupby(['test_date']).count()['gender'] # take count of any column. They will all be same.\n",
        "date_counts = date_counts.sort_index()\n",
        "cum_counts = date_counts.cumsum()\n",
        "cdf = cum_counts / n_obs\n"
      ],
      "execution_count": null,
      "outputs": []
    },
    {
      "cell_type": "code",
      "metadata": {
        "colab": {
          "base_uri": "https://localhost:8080/"
        },
        "id": "WvTrB-PsMrOv",
        "outputId": "f46dd3b9-4a37-4c62-de4c-d0126ba4d511"
      },
      "source": [
        "max_training_date = cdf[cdf < 0.60].index.max()\n",
        "training_data = df[df['test_date'] <= max_training_date]\n",
        "\n",
        "min_test_date = cdf[cdf > 0.80].index.min()\n",
        "test_data = df[df['test_date'] >= min_test_date]\n",
        "\n",
        "valid_data = df[(max_training_date < df['test_date']) & (df['test_date'] < min_test_date)]\n",
        "\n",
        "print(\"# of observations in training dataset\", training_data.shape[0])\n",
        "print(\"# of observations in validation dataset\", valid_data.shape[0])\n",
        "print(\"# of observations in test dataset\", test_data.shape[0])"
      ],
      "execution_count": null,
      "outputs": [
        {
          "output_type": "stream",
          "text": [
            "# of observations in training dataset 160717\n",
            "# of observations in validation dataset 53172\n",
            "# of observations in test dataset 61067\n"
          ],
          "name": "stdout"
        }
      ]
    },
    {
      "cell_type": "markdown",
      "metadata": {
        "id": "J-xJrSsa5_Lz"
      },
      "source": [
        "**NOTE:**\n",
        "It is **extremely important** that you do not use the test dataset in the model building phase. \n",
        "While building models, it will be required to tune the hyperparameter, adjust assumptions, modify features, etc. \n",
        "This should be done on the validation dataset. \n",
        "After several such iterations on the validation dataset, you will pick a model with the best performace as your final model. \n",
        "\n",
        "A test dataset is used to measure the final model's performance, which is a proxy for how it will perform (or generalize) in real life. \n",
        "Thus, to have a proper measure of model's genearalization, test dataset should not be part of your model building process. "
      ]
    },
    {
      "cell_type": "markdown",
      "metadata": {
        "id": "W86CzZGp_rOd"
      },
      "source": [
        "# Exploratory Data Analysis\n",
        "\n",
        "In this section, we will see the general statistics of features.\n",
        "In doing so, we will encounter inconsistencies in the data and address them accordingly. \n"
      ]
    },
    {
      "cell_type": "code",
      "metadata": {
        "colab": {
          "base_uri": "https://localhost:8080/"
        },
        "id": "jx1mMFLQEMdS",
        "outputId": "b29c246d-3d7e-4a33-8d50-9ed5afa2fdcc"
      },
      "source": [
        "# We want to predict 'corona_result'. \n",
        "# We will not use \"test_date\" as a feature. \n",
        "# So we narrow down the input features to this list \n",
        "INPUT_FEATURES = ['cough', 'fever', 'sore_throat', 'shortness_of_breath', 'head_ache', 'age_60_and_above', 'gender', 'test_indication']\n",
        "TARGET_COLUMN = 'corona_result'\n",
        "\n",
        "for col in INPUT_FEATURES:\n",
        "  print(\"*\"*25, f\" {col} \", \"*\"*25)\n",
        "  print(training_data[col].value_counts())"
      ],
      "execution_count": null,
      "outputs": [
        {
          "output_type": "stream",
          "text": [
            "*************************  cough  *************************\n",
            "0       119702\n",
            "1        25547\n",
            "0        12039\n",
            "1         3177\n",
            "None       252\n",
            "Name: cough, dtype: int64\n",
            "*************************  fever  *************************\n",
            "0       131874\n",
            "0        13768\n",
            "1        13375\n",
            "1         1448\n",
            "None       252\n",
            "Name: fever, dtype: int64\n",
            "*************************  sore_throat  *************************\n",
            "0       142874\n",
            "0        15973\n",
            "1         1435\n",
            "1          434\n",
            "None         1\n",
            "Name: sore_throat, dtype: int64\n",
            "*************************  shortness_of_breath  *************************\n",
            "0       143279\n",
            "0        15906\n",
            "1         1030\n",
            "1          501\n",
            "None         1\n",
            "Name: shortness_of_breath, dtype: int64\n",
            "*************************  head_ache  *************************\n",
            "0       142294\n",
            "0        16064\n",
            "1         2015\n",
            "1          343\n",
            "None         1\n",
            "Name: head_ache, dtype: int64\n",
            "*************************  age_60_and_above  *************************\n",
            "No      123867\n",
            "Yes      25425\n",
            "None     11425\n",
            "Name: age_60_and_above, dtype: int64\n",
            "*************************  gender  *************************\n",
            "male      72598\n",
            "female    70950\n",
            "None      17169\n",
            "Name: gender, dtype: int64\n",
            "*************************  test_indication  *************************\n",
            "Other                     135059\n",
            "Abroad                     17162\n",
            "Contact with confirmed      8496\n",
            "Name: test_indication, dtype: int64\n"
          ],
          "name": "stdout"
        }
      ]
    },
    {
      "cell_type": "markdown",
      "metadata": {
        "id": "S4xQpBQgHUGG"
      },
      "source": [
        "We make note of two points here - \n",
        "\n",
        "1. There are values which are *present twice as unique values*. How is this possible?\n",
        "2. There are column values \"None\" in the dataset. What can these values mean? Should we use them in our model? If so, how do we represent them?\n",
        "\n",
        "We will address the questions related to the second observation in the next section. \n",
        "\n",
        "For now, let's look at the unique values of one of these columns. \n",
        "\n",
        "\n",
        "\n"
      ]
    },
    {
      "cell_type": "code",
      "metadata": {
        "colab": {
          "base_uri": "https://localhost:8080/"
        },
        "id": "Q_uUzwB3Hhmh",
        "outputId": "48d8ec7d-6594-4b70-b22e-33a5b5c0423c"
      },
      "source": [
        "training_data['cough'].unique()"
      ],
      "execution_count": null,
      "outputs": [
        {
          "output_type": "execute_result",
          "data": {
            "text/plain": [
              "array([0, 1, '0', '1', 'None'], dtype=object)"
            ]
          },
          "metadata": {
            "tags": []
          },
          "execution_count": 11
        }
      ]
    },
    {
      "cell_type": "markdown",
      "metadata": {
        "id": "vK4O4Oj2Ho7V"
      },
      "source": [
        "Ok! So a value of 0 is used in the dataset in two ways - an integer (0) and a string (\"0\"). \n",
        "Therefore, we will need to convert all such values to a common datatype. \n",
        "Here, we will convert all strings to integers. "
      ]
    },
    {
      "cell_type": "code",
      "metadata": {
        "colab": {
          "base_uri": "https://localhost:8080/"
        },
        "id": "1ipPqTLYLf9w",
        "outputId": "eaed7738-199a-49e5-fc6e-88e89a30652f"
      },
      "source": [
        "def normalize(x):\n",
        "  \"\"\"\n",
        "  Normalizes the input to integer type. It maps \"None\" to 2.\n",
        "\n",
        "  Args:\n",
        "    x (int or str): input to be normalized \n",
        "  \n",
        "  Returns:\n",
        "    (int): normalized input\n",
        "  \"\"\"\n",
        "  if type(x) == str:\n",
        "    return int(x) if x != \"None\" else 2\n",
        "  return x\n",
        "\n",
        "\n",
        "\n",
        "for col in ['cough', 'fever', 'sore_throat', 'shortness_of_breath', 'head_ache']:\n",
        "  training_data.loc[:, col] = training_data[col].apply(normalize)"
      ],
      "execution_count": null,
      "outputs": [
        {
          "output_type": "stream",
          "text": [
            "/usr/local/lib/python3.7/dist-packages/pandas/core/indexing.py:1743: SettingWithCopyWarning: \n",
            "A value is trying to be set on a copy of a slice from a DataFrame.\n",
            "Try using .loc[row_indexer,col_indexer] = value instead\n",
            "\n",
            "See the caveats in the documentation: https://pandas.pydata.org/pandas-docs/stable/user_guide/indexing.html#returning-a-view-versus-a-copy\n",
            "  isetter(ilocs[0], value)\n"
          ],
          "name": "stderr"
        }
      ]
    },
    {
      "cell_type": "code",
      "metadata": {
        "colab": {
          "base_uri": "https://localhost:8080/"
        },
        "id": "hpC0fbgORVeE",
        "outputId": "ea152f3d-87a5-417e-a582-df8c08e8a709"
      },
      "source": [
        "training_data['cough'].value_counts()"
      ],
      "execution_count": null,
      "outputs": [
        {
          "output_type": "execute_result",
          "data": {
            "text/plain": [
              "0    131741\n",
              "1     28724\n",
              "2       252\n",
              "Name: cough, dtype: int64"
            ]
          },
          "metadata": {
            "tags": []
          },
          "execution_count": 13
        }
      ]
    },
    {
      "cell_type": "markdown",
      "metadata": {
        "id": "IQRohLR0R8wd"
      },
      "source": [
        "Great! So we fixed the incoherence in data formats. Let's plot the histograms of the categorical values. \n",
        "\n",
        "**GOOD PRACTICE**: To make your plots accessible to everyone, it is always a good idea to use colorblind-friendly palette for your plots. Check out [this](https://medium.com/cafe-pixo/inclusive-color-palettes-for-the-web-bbfe8cf2410e) for such a palette."
      ]
    },
    {
      "cell_type": "code",
      "metadata": {
        "colab": {
          "base_uri": "https://localhost:8080/",
          "height": 1000
        },
        "id": "94xgeK6TSdT0",
        "outputId": "50d25785-05da-4c14-903f-fe0547416907"
      },
      "source": [
        "nrows = 2\n",
        "ncols = math.ceil(len(INPUT_FEATURES) / nrows)\n",
        "fig, axs = plt.subplots(nrows=nrows, ncols=ncols, figsize=(15, 10), dpi=100, sharey=True)\n",
        "\n",
        "colormap = {\"positive\": \"#BDD9BF\", \"negative\": \"#A997DF\"}\n",
        "\n",
        "for i, col in enumerate(INPUT_FEATURES):\n",
        "  ax = axs[i % 2][i // 2]\n",
        "  counts = training_data[col].value_counts()\n",
        "\n",
        "  # counts for positive results\n",
        "  pos_prob = training_data[training_data[TARGET_COLUMN] == 'positive'][col].value_counts() / sum(counts)\n",
        "\n",
        "  # counts for negative results\n",
        "  neg_prob = training_data[training_data[TARGET_COLUMN] == 'negative'][col].value_counts() / sum(counts)\n",
        "\n",
        "  # plot\n",
        "  pd.concat([pos_prob.rename('positive'), neg_prob.rename('negative')], axis=1).plot(kind=\"bar\", ax=ax, color=colormap)\n",
        "\n",
        "  # basic plot formatting\n",
        "  ax.set_title(col, fontsize=15)\n",
        "\n",
        "  # tick size\n",
        "  for tick in ax.xaxis.get_major_ticks():\n",
        "      tick.label.set_fontsize(15)\n",
        "      tick.label.set_rotation(0)\n",
        "      if tick.label.get_text() == \"Contact with confirmed\":\n",
        "        tick.label.set_rotation(90)\n",
        "\n",
        "  for tick in ax.yaxis.get_major_ticks():\n",
        "      tick.label.set_fontsize(15)\n"
      ],
      "execution_count": null,
      "outputs": [
        {
          "output_type": "display_data",
          "data": {
            "image/png": "[encoded data removed]",
            "text/plain": [
              "<Figure size 1500x1000 with 8 Axes>"
            ]
          },
          "metadata": {
            "tags": [],
            "needs_background": "light"
          }
        }
      ]
    },
    {
      "cell_type": "markdown",
      "metadata": {
        "id": "YYmvNVNsst0r"
      },
      "source": [
        "The dataset itself has \"class imbalance\", i.e there are far more number of `Negative` observations than the `Positive` observations. \n",
        "The models usually output scores that are interpreted as indication for belonging to class 1 if the score is greater than 0.5 and 0 otherwise. \n",
        "With a class imbalance, the models tend to get better for inputs that belong to the class which is present in majority.\n",
        "This tendency pushes the average score towards the majority class. \n",
        "Thus, the techniques like resampling (re-weighting the loss function so that minority class is appropriately weighted) or threshold-moving (selecting the threshold other than 0.5) will be required to interpret the model scores.\n",
        "There are [various other techniques](https://elitedatascience.com/imbalanced-classes) that are used to handle the challenges posed by imbalanced datasets.\n",
        "\n",
        "Further, we make note of the biased features which the authors point out in their work. \n",
        "They recognize `sore_throat`, `shortness_of_breath`, and `head_ache` as biased features because a `Positive` case was more likely to *report* them (and been further validated by epidemiologists). \n",
        "This can be seen by a \"green\" bar higher than the \"purple\" bar for the value of 1 in the plots of the aforementioned features. \n",
        "\n",
        "Let's look at `corona_result` when these features are reported. \n",
        "One might jump to a conclusion that there is a high likelihood of being COVID positive if one of these features are present. \n",
        "However, this conclusion stands upon the underlying bias in data collection, therefore we need to be careful while including these features. \n",
        "This is where a close collaboration with experts (e.g, public health officials, epidemiologists, etc.) can help. \n",
        "\n",
        "For now, let's zoom in on the statistics of `corona_result` when the aforementioned features are present.\n",
        "\n"
      ]
    },
    {
      "cell_type": "code",
      "metadata": {
        "colab": {
          "base_uri": "https://localhost:8080/",
          "height": 469
        },
        "id": "5glCg0gsLzb4",
        "outputId": "07adc14e-8a8f-4550-e266-13fe3ddcc241"
      },
      "source": [
        "fig, axs = plt.subplots(nrows=1, ncols=3, figsize=(15, 5), dpi=100)\n",
        "\n",
        "for i, col in enumerate(['sore_throat', 'head_ache', 'shortness_of_breath']):\n",
        "  ax = axs[i]\n",
        "  counts = training_data[col].value_counts()\n",
        "\n",
        "  # counts of positive when this col was 1\n",
        "  result_prob = training_data[training_data[col] == 1][TARGET_COLUMN].value_counts() / sum(counts)\n",
        "\n",
        "  result_prob = pd.DataFrame(result_prob).transpose() # converts series to dataframe with column to be read by the `colormap`\n",
        "  result_prob.plot(kind=\"bar\", ax=ax, color=colormap)\n",
        "\n",
        "  # basic plot formatting\n",
        "  ax.set_title(col, fontsize=15)\n",
        "\n",
        "  # tick size\n",
        "  for tick in ax.xaxis.get_major_ticks():\n",
        "      tick.label.set_fontsize(15)\n",
        "      tick.label.set_rotation(0)\n",
        "\n",
        "  for tick in ax.yaxis.get_major_ticks():\n",
        "      tick.label.set_fontsize(10)\n"
      ],
      "execution_count": null,
      "outputs": [
        {
          "output_type": "display_data",
          "data": {
            "image/png": "[encoded data removed]",
            "text/plain": [
              "<Figure size 1500x500 with 3 Axes>"
            ]
          },
          "metadata": {
            "tags": [],
            "needs_background": "light"
          }
        }
      ]
    },
    {
      "cell_type": "markdown",
      "metadata": {
        "id": "_yOqnLGkOptR"
      },
      "source": [
        "How do we deal with such biases?\n",
        "The authors made another model without the use of these features.\n",
        "\n",
        "In our exercise, however, we will build a model using all of these features. \n",
        "It is left as an exercise to the reader to try a model without the biased features. "
      ]
    },
    {
      "cell_type": "markdown",
      "metadata": {
        "id": "GLRMrojV__Se"
      },
      "source": [
        "# Feature Engineering\n",
        "\n",
        "In this section, we will transform the features that models can operate upon. Note that this transformation doesn't have to be unique. \n",
        "It is very much dependent on the type of model you are building. \n",
        "\n",
        "Since all of the features are categorical we will use one-hot-encoding for our features.\n",
        "We will assume \"None\" as a separate category. \n",
        "It is because the absence of a feature might also contain useful information for predicting the target. \n",
        "\n",
        "We will be using [`sklearn`'s functions](https://scikit-learn.org/stable/modules/generated/sklearn.preprocessing.OneHotEncoder.html) to get our one-hot-encoded dataset, but it can also be done without any external library. "
      ]
    },
    {
      "cell_type": "code",
      "metadata": {
        "id": "K2v9EzkEEVuQ",
        "colab": {
          "base_uri": "https://localhost:8080/"
        },
        "outputId": "941b2cb7-da12-4bae-8797-4875b549e618"
      },
      "source": [
        "encoder = OneHotEncoder()\n",
        "encoder.fit(training_data[INPUT_FEATURES]) \n",
        "\n",
        "# NOTE: encoder will transform features of training_data according to the ** column sequence specified by INPUT_FEATURES **. \n",
        "# ecoder will not know the labels of these features. It only looks at column and transforms them into several columns for each category in that column. The ordering is preserved. \n",
        "print(\"Encoded categories:\\n\")\n",
        "print(encoder.categories_) # what are the categories identified by the encoder\n",
        "\n",
        "print(\"\\nColumn names: \\n\")\n",
        "print(encoder.get_feature_names(input_features=INPUT_FEATURES)) # what are the names of these cateogories\n",
        "\n",
        "print(\"\\nInput data shape: \\n\")\n",
        "print(training_data.shape)\n",
        "\n",
        "print(\"\\nOne-hot encoded data shape: \\n\")\n",
        "print(encoder.transform(training_data[INPUT_FEATURES]).shape)"
      ],
      "execution_count": null,
      "outputs": [
        {
          "output_type": "stream",
          "text": [
            "Encoded categories:\n",
            "\n",
            "[array([0, 1, 2]), array([0, 1, 2]), array([0, 1, 2]), array([0, 1, 2]), array([0, 1, 2]), array(['No', 'None', 'Yes'], dtype=object), array(['None', 'female', 'male'], dtype=object), array(['Abroad', 'Contact with confirmed', 'Other'], dtype=object)]\n",
            "\n",
            "Column names: \n",
            "\n",
            "['cough_0' 'cough_1' 'cough_2' 'fever_0' 'fever_1' 'fever_2'\n",
            " 'sore_throat_0' 'sore_throat_1' 'sore_throat_2' 'shortness_of_breath_0'\n",
            " 'shortness_of_breath_1' 'shortness_of_breath_2' 'head_ache_0'\n",
            " 'head_ache_1' 'head_ache_2' 'age_60_and_above_No' 'age_60_and_above_None'\n",
            " 'age_60_and_above_Yes' 'gender_None' 'gender_female' 'gender_male'\n",
            " 'test_indication_Abroad' 'test_indication_Contact with confirmed'\n",
            " 'test_indication_Other']\n",
            "\n",
            "Input data shape: \n",
            "\n",
            "(160717, 10)\n",
            "\n",
            "One-hot encoded data shape: \n",
            "\n",
            "(160717, 24)\n"
          ],
          "name": "stdout"
        }
      ]
    },
    {
      "cell_type": "markdown",
      "metadata": {
        "id": "1nYwo5jzXAEU"
      },
      "source": [
        "All of the 8 input features had 3 cateogories. \n",
        "Therefore, after the one-hot encoding of these features the resulting dataset has 24 columns - one for each category in each column. \n",
        "\n",
        "Note that there is a redundancy in representing all three categories for each feature.\n",
        "If there are only three possible values for a feature, absence of any two cateogories will imply presence of the third category. \n",
        "Therefore, one of the three columns for each feature will be redundant (i.e. no extra information to help our models).\n",
        "\n",
        "Let's drop one of these categories for each feature. \n",
        "We can achieve this by passing `drop` argument to our encoder."
      ]
    },
    {
      "cell_type": "code",
      "metadata": {
        "colab": {
          "base_uri": "https://localhost:8080/"
        },
        "id": "JwTdRWqLWqUO",
        "outputId": "4b915ab0-6f24-428a-f118-b098da803f74"
      },
      "source": [
        "encoder = OneHotEncoder(drop='first').fit(training_data[INPUT_FEATURES]) \n",
        "\n",
        "print(\"Encoded categories:\\n\")\n",
        "print(encoder.categories_) \n",
        "\n",
        "print(\"\\nColumn names: \\n\")\n",
        "print(encoder.get_feature_names(input_features=INPUT_FEATURES)) \n",
        "\n",
        "print(\"\\nInput data shape: \\n\")\n",
        "print(training_data.shape)\n",
        "\n",
        "print(\"\\nOne-hot encoded data shape: \\n\")\n",
        "print(encoder.transform(training_data[INPUT_FEATURES]).shape)\n",
        "\n",
        "print(\"\\nOne-hot encoded data (sparse format:  stores indices and values only for cells with non-zero values) : \\n\")\n",
        "print(encoder.transform(training_data[INPUT_FEATURES]))\n",
        "\n",
        "print(\"\\nOne-hot encoded data (dense format): \\n\")\n",
        "print(encoder.transform(training_data[INPUT_FEATURES]).todense())\n",
        "\n"
      ],
      "execution_count": null,
      "outputs": [
        {
          "output_type": "stream",
          "text": [
            "Encoded categories:\n",
            "\n",
            "[array([0, 1, 2]), array([0, 1, 2]), array([0, 1, 2]), array([0, 1, 2]), array([0, 1, 2]), array(['No', 'None', 'Yes'], dtype=object), array(['None', 'female', 'male'], dtype=object), array(['Abroad', 'Contact with confirmed', 'Other'], dtype=object)]\n",
            "\n",
            "Column names: \n",
            "\n",
            "['cough_1' 'cough_2' 'fever_1' 'fever_2' 'sore_throat_1' 'sore_throat_2'\n",
            " 'shortness_of_breath_1' 'shortness_of_breath_2' 'head_ache_1'\n",
            " 'head_ache_2' 'age_60_and_above_None' 'age_60_and_above_Yes'\n",
            " 'gender_female' 'gender_male' 'test_indication_Contact with confirmed'\n",
            " 'test_indication_Other']\n",
            "\n",
            "Input data shape: \n",
            "\n",
            "(160717, 10)\n",
            "\n",
            "One-hot encoded data shape: \n",
            "\n",
            "(160717, 16)\n",
            "\n",
            "One-hot encoded data (sparse format:  stores indices and values only for cells with non-zero values) : \n",
            "\n",
            "  (0, 10)\t1.0\n",
            "  (0, 13)\t1.0\n",
            "  (0, 15)\t1.0\n",
            "  (1, 10)\t1.0\n",
            "  (1, 13)\t1.0\n",
            "  (1, 15)\t1.0\n",
            "  (2, 10)\t1.0\n",
            "  (2, 13)\t1.0\n",
            "  (2, 15)\t1.0\n",
            "  (3, 10)\t1.0\n",
            "  (3, 12)\t1.0\n",
            "  (3, 15)\t1.0\n",
            "  (4, 10)\t1.0\n",
            "  (4, 13)\t1.0\n",
            "  (4, 15)\t1.0\n",
            "  (5, 10)\t1.0\n",
            "  (5, 13)\t1.0\n",
            "  (5, 15)\t1.0\n",
            "  (6, 10)\t1.0\n",
            "  (6, 13)\t1.0\n",
            "  (6, 15)\t1.0\n",
            "  (7, 10)\t1.0\n",
            "  (7, 13)\t1.0\n",
            "  (7, 15)\t1.0\n",
            "  (8, 10)\t1.0\n",
            "  :\t:\n",
            "  (160705, 10)\t1.0\n",
            "  (160706, 10)\t1.0\n",
            "  (160706, 14)\t1.0\n",
            "  (160707, 0)\t1.0\n",
            "  (160707, 2)\t1.0\n",
            "  (160707, 4)\t1.0\n",
            "  (160707, 10)\t1.0\n",
            "  (160708, 6)\t1.0\n",
            "  (160708, 10)\t1.0\n",
            "  (160709, 4)\t1.0\n",
            "  (160709, 10)\t1.0\n",
            "  (160710, 10)\t1.0\n",
            "  (160710, 15)\t1.0\n",
            "  (160711, 10)\t1.0\n",
            "  (160711, 15)\t1.0\n",
            "  (160712, 10)\t1.0\n",
            "  (160712, 15)\t1.0\n",
            "  (160713, 10)\t1.0\n",
            "  (160713, 15)\t1.0\n",
            "  (160714, 10)\t1.0\n",
            "  (160714, 15)\t1.0\n",
            "  (160715, 10)\t1.0\n",
            "  (160715, 14)\t1.0\n",
            "  (160716, 10)\t1.0\n",
            "  (160716, 15)\t1.0\n",
            "\n",
            "One-hot encoded data (dense format): \n",
            "\n",
            "[[0. 0. 0. ... 1. 0. 1.]\n",
            " [0. 0. 0. ... 1. 0. 1.]\n",
            " [0. 0. 0. ... 1. 0. 1.]\n",
            " ...\n",
            " [0. 0. 0. ... 0. 0. 1.]\n",
            " [0. 0. 0. ... 0. 1. 0.]\n",
            " [0. 0. 0. ... 0. 0. 1.]]\n"
          ],
          "name": "stdout"
        }
      ]
    },
    {
      "cell_type": "markdown",
      "metadata": {
        "id": "D_UYmfkpYe0N"
      },
      "source": [
        "Great! We will use this `econder` to transform all our datasets. \n",
        "Our target is `corona_result`. \n",
        "We will use standard `sklearn` format to binarize our target. "
      ]
    },
    {
      "cell_type": "code",
      "metadata": {
        "colab": {
          "base_uri": "https://localhost:8080/"
        },
        "id": "XlSfLFC7YeBc",
        "outputId": "ba42d4ff-381a-4f89-f07b-984b2984e246"
      },
      "source": [
        "lb = LabelBinarizer()\n",
        "lb.fit(training_data['corona_result'])\n",
        "\n",
        "print(\"What are the classes identified by LabelBinarizer?\")\n",
        "print(lb.classes_)\n",
        "\n",
        "print(\"\\nHow are these classes represeted?\")\n",
        "print(lb.get_params())\n",
        "\n",
        "print(\"\\nHow will the transformed training targets look like?\")\n",
        "print(\"\\nBefore transformation:\")\n",
        "print(np.array(training_data[TARGET_COLUMN].tolist()))\n",
        "print(\"\\nAfter transformation\")\n",
        "print(lb.transform(training_data[TARGET_COLUMN]).flatten()) # use .flatten() to convert the array into a 1D array because we have binary labels.\n"
      ],
      "execution_count": null,
      "outputs": [
        {
          "output_type": "stream",
          "text": [
            "What are the classes identified by LabelBinarizer?\n",
            "['negative' 'positive']\n",
            "\n",
            "How are these classes represeted?\n",
            "{'neg_label': 0, 'pos_label': 1, 'sparse_output': False}\n",
            "\n",
            "How will the transformed training targets look like?\n",
            "\n",
            "Before transformation:\n",
            "['negative' 'negative' 'negative' ... 'negative' 'positive' 'negative']\n",
            "\n",
            "After transformation\n",
            "[0 0 0 ... 0 1 0]\n"
          ],
          "name": "stdout"
        }
      ]
    },
    {
      "cell_type": "markdown",
      "metadata": {
        "id": "oyvkVkZMpeey"
      },
      "source": [
        "Let's write a function to do the above transformations so that we can call the same function on different datasets."
      ]
    },
    {
      "cell_type": "code",
      "metadata": {
        "id": "S9Mj7RyHnWsx"
      },
      "source": [
        "def preprocess(data, encoder, lb):\n",
        "  \"\"\"\n",
        "  Transforms `data` into format required for model building\n",
        "\n",
        "  Args:\n",
        "    data (pd.DataFrame): dataframe with columns `INPUT_FEAUTURES` and `TARGET_COLUMN`\n",
        "    encoder (sklearn.preprocessing.OneHotEncoder): A fitted OneHotEncoder to be used to transform `INPUT_FEATURES`\n",
        "    lb (sklearn.preprocessing.LabelBinarizer): A fitted LabelBinarizer to be used to transform `TARGET_COLUMN`\n",
        "  \n",
        "  Returns:\n",
        "    model_input (np.array): each row is an observation, columns are one-hot encoded features of `INPUT_FEATURES`\n",
        "    model_target (np.array): 1D array with 1 where `TARGET_COLUMN` is \"positive\" and 0 otherwise.\n",
        "  \"\"\"\n",
        "\n",
        "  x = encoder.transform(data[INPUT_FEATURES]).todense()\n",
        "  y = lb.transform(data[TARGET_COLUMN]).flatten() \n",
        "\n",
        "  return x, y"
      ],
      "execution_count": null,
      "outputs": []
    },
    {
      "cell_type": "markdown",
      "metadata": {
        "id": "5N6PYvo8NUuE"
      },
      "source": [
        "# Model building\n",
        "\n",
        "In this section, we will build a very simple [logistic regression model](https://scikit-learn.org/stable/modules/generated/sklearn.linear_model.LogisticRegression.html) using `sklearn`. \n",
        "\n",
        "**TRY:** The task for this tutorial will be to try various other classifiers that you have learned so far.\n",
        "Here is the list of models to try :\n",
        "\n",
        "*   Decision Trees: [User Guide](https://scikit-learn.org/stable/modules/tree.html#classification). [API](https://scikit-learn.org/stable/modules/generated/sklearn.tree.DecisionTreeClassifier.html#sklearn.tree.DecisionTreeClassifier). You can head down in the User Guide to [other Tree algorithms](https://scikit-learn.org/stable/modules/tree.html#tree-algorithms-id3-c4-5-c5-0-and-cart) if you fancy. \n",
        "*   Categorical Naive Bayes.[User Guide](https://scikit-learn.org/stable/modules/naive_bayes.html#categorical-naive-bayes). [API](https://scikit-learn.org/stable/modules/generated/sklearn.naive_bayes.CategoricalNB.html#sklearn.naive_bayes.CategoricalNB)\n",
        "*   Linear Discriminant Analysis. [User Guide](https://scikit-learn.org/stable/modules/lda_qda.html#). [API](https://scikit-learn.org/stable/modules/generated/sklearn.discriminant_analysis.LinearDiscriminantAnalysis.html#sklearn.discriminant_analysis.LinearDiscriminantAnalysis)\n",
        "*   Quadratic Discriminant Analysis. [User Guide](https://scikit-learn.org/stable/modules/lda_qda.html#). [API](https://scikit-learn.org/stable/modules/generated/sklearn.discriminant_analysis.QuadraticDiscriminantAnalysis.html#sklearn.discriminant_analysis.QuadraticDiscriminantAnalysis)\n",
        "*   Support Vector Machines. [User Guide](https://scikit-learn.org/stable/modules/svm.html#classification). [API](https://scikit-learn.org/stable/modules/generated/sklearn.svm.SVC.html#sklearn.svm.SVC)\n",
        "*   Nearest neighbors classification. [User Guide](https://scikit-learn.org/stable/modules/neighbors.html#nearest-neighbors-classification). [API](https://scikit-learn.org/stable/modules/generated/sklearn.neighbors.KNeighborsClassifier.html#sklearn.neighbors.KNeighborsClassifier)\n",
        "*   Neural networks - Multi-layer Perceptron (MLP). [User Guide](https://scikit-learn.org/stable/modules/neural_networks_supervised.html#multi-layer-perceptron). [API](https://scikit-learn.org/stable/modules/generated/sklearn.neural_network.MLPClassifier.html#sklearn.neural_network.MLPClassifier)\n",
        "\n"
      ]
    },
    {
      "cell_type": "code",
      "metadata": {
        "colab": {
          "base_uri": "https://localhost:8080/"
        },
        "id": "T-gnOfI8bg0y",
        "outputId": "4e06892b-06b1-4f16-9f73-6419c0500c4a"
      },
      "source": [
        "X_train, Y_train = preprocess(training_data, encoder, lb)\n",
        "model = LogisticRegression()\n",
        "model.fit(X_train, Y_train)"
      ],
      "execution_count": null,
      "outputs": [
        {
          "output_type": "execute_result",
          "data": {
            "text/plain": [
              "LogisticRegression(C=1.0, class_weight=None, dual=False, fit_intercept=True,\n",
              "                   intercept_scaling=1, l1_ratio=None, max_iter=100,\n",
              "                   multi_class='auto', n_jobs=None, penalty='l2',\n",
              "                   random_state=None, solver='lbfgs', tol=0.0001, verbose=0,\n",
              "                   warm_start=False)"
            ]
          },
          "metadata": {
            "tags": []
          },
          "execution_count": 20
        }
      ]
    },
    {
      "cell_type": "markdown",
      "metadata": {
        "id": "bZSS0TyANfG1"
      },
      "source": [
        "# Evaluate Model\n",
        "\n",
        "In this section, we will evaluate our model's performance on the validation dataset. \n",
        "\n",
        "A model outputs a probability that the input is a \"positive\" case. \n",
        "While using this model in real life, we will want to know a threshold probability above which we can classify that input as \"positive\" and recommend necessary actions. \n",
        "If a threshold is too low, we are bound to classify some \"negative\" cases as \"positive\" (False Positive). \n",
        "On the other hand, if the threshold is too high, we will be classifying some \"positive\" cases as \"negative\" (False Negative).\n",
        "\n",
        "As you can see, there is a trade-off between these False Positives and False Negatives. \n",
        "We convert the rate of such predictions into False Positive Rate (FPR) (fraction of false positives out of all true negative inputs) and False Negative Rates (FNR) (fraction of false negatives out of all true positive inputs).\n",
        "It is by convention that we consider a trade-off between FPR and 1-FNR (True Positive Rate or TPR).\n",
        "This trade-off is usually visualized in the form of a Reciever Operating Characteristics (ROC). \n",
        "\n",
        "How do we summarize this trade-off into a single number or a metric?\n",
        "This is where we use Area Under the Curve (AUC) of ROC. \n",
        "Consider an oracle model that predicts a likelihood of 0 for all inputs that are \"negative\" and any value greater than 0 for all inputs that are \"positive\". For such an oracle, no matter what a threshold you choose, its FPR will always be 0 and TPR will be 1 (or FNR will be 0). \n",
        "AUC for such an oracle ROC will be 1 (area of the square of side 1). \n",
        "This is what we are aiming for when we build our models. \n",
        "Hence, our metric of evaluation is ROC AUC, where we want to aim for a model that has an ROC AUC of 1.\n",
        "\n",
        "There are standard functions to compute these scores in `sklearn`, so we will use them. \n",
        "Specifically, we will be using [`roc_auc_score`](https://scikit-learn.org/stable/modules/generated/sklearn.metrics.roc_auc_score.html#sklearn.metrics.roc_auc_score) and [`plot_roc_curve`](https://scikit-learn.org/stable/modules/generated/sklearn.metrics.plot_roc_curve.html).\n",
        "\n",
        "Question of which threshold to use will be answered in conjunction with authorities that will be using such a system.\n",
        "If we were to use this system for triaging patients, a false positive would probably result in a wasted PCR test, and a false negative will result in more infections. \n",
        "On the other hand, if this model were to be used for recommending self-isolation, a false positive will result in some form of economic cost by restricting the individual to home (assuming work from home is not possible), and a false negative will result in more infections.\n",
        "Thus, deciding which threshold to use will depend on the ideologies and preference of the authorities that you work with.\n",
        "Therefore, one needs to be good at communicating the complex concepts in machine learning to experts in other domains not cognizant of such details. \n"
      ]
    },
    {
      "cell_type": "code",
      "metadata": {
        "colab": {
          "base_uri": "https://localhost:8080/",
          "height": 516
        },
        "id": "Yw2IGItReFAc",
        "outputId": "8a1e5c81-41fc-4eb3-d1e5-62d161ecedeb"
      },
      "source": [
        "X_valid, Y_valid = preprocess(valid_data, encoder, lb)\n",
        "y_score = model.predict_proba(X_valid) # (n_samples, n_clases) with each value being the probability of being in that class\n",
        "\n",
        "print(\"AUC ROC score for the model:\", roc_auc_score(y_true = Y_valid, y_score= y_score[:, 1]), \"\\n\")\n",
        "\n",
        "# plot\n",
        "fig, ax = plt.subplots(nrows=1, ncols=1, figsize=(5,5), dpi=100)\n",
        "plot_roc_curve(model, X_valid, Y_valid, ax =ax, color=\"#2E4052\")\n",
        "\n",
        "# formatting \n",
        "ax.plot(np.arange(0,1, 0.01), np.arange(0, 1, 0.01), color=\"#2E4052\", linestyle=\"-.\") # reference line\n",
        "ax.set_xlim(0, 1)\n",
        "ax.set_ylim(0, 1)\n",
        "_ = ax.set_title(\"Receiver Operating Characteristics\", fontsize=15)"
      ],
      "execution_count": null,
      "outputs": [
        {
          "output_type": "stream",
          "text": [
            "AUC ROC score for the model: 0.82602918308811 \n",
            "\n"
          ],
          "name": "stdout"
        },
        {
          "output_type": "display_data",
          "data": {
            "image/png": "[encoded data removed]",
            "text/plain": [
              "<Figure size 500x500 with 1 Axes>"
            ]
          },
          "metadata": {
            "tags": [],
            "needs_background": "light"
          }
        }
      ]
    },
    {
      "cell_type": "markdown",
      "metadata": {
        "id": "FPtsnIMBYcfj"
      },
      "source": [
        "Great! Let's define a function that can do this evaluation for us. "
      ]
    },
    {
      "cell_type": "code",
      "metadata": {
        "id": "dDPJTVlHYjHK"
      },
      "source": [
        "def evaluate(model, X, Y):\n",
        "  \"\"\"\n",
        "  Returns the AUC-ROC for `model` as evaluated on (X, Y)\n",
        "\n",
        "  Args:\n",
        "    model (): Any model that has a function predict_proba and returns probability for each row in `X`.\n",
        "    X (np.array): Input to the model containing feature values\n",
        "    Y (np.array): 1D array containing true class i.e. 0 or 1\n",
        "  \n",
        "  Returns:\n",
        "    (float): AUC ROC for the model\n",
        "  \"\"\"\n",
        "\n",
        "  y_score = model.predict_proba(X) # (n_samples, n_clases) with each value being the probability of being in that class\n",
        "  return roc_auc_score(y_true=Y, y_score=y_score[:, 1])"
      ],
      "execution_count": null,
      "outputs": []
    },
    {
      "cell_type": "markdown",
      "metadata": {
        "id": "6n0jr-EekESj"
      },
      "source": [
        "# Hyperparameter Search\n",
        "\n",
        "In this section we will be searching for the best parameters to build our logistic model. This is where we will use our validation dataset. \n",
        "\n",
        "Specifically, we will fine-tune the `l2` regularizer's strength. \n",
        "This parameter is controlled by the parameter `C` in `sklearn`. \n",
        "\n"
      ]
    },
    {
      "cell_type": "code",
      "metadata": {
        "id": "E3bd5i00kQ_S",
        "colab": {
          "base_uri": "https://localhost:8080/"
        },
        "outputId": "834e29f4-76f7-435b-f076-71407f35db65"
      },
      "source": [
        "best_auc = -1\n",
        "best_C = None\n",
        "for C in [1e-4, 1e-3, 1e-2, 1e-1]:\n",
        "  model = LogisticRegression(C=C)\n",
        "  model.fit(X_train, Y_train)\n",
        "  auc_score = evaluate(model, X_valid, Y_valid)\n",
        "  if auc_score > best_auc:\n",
        "    best_model = model\n",
        "    best_auc = auc_score\n",
        "    best_C = C\n",
        "\n",
        "print(f\"Found the best model with C:{best_C} of AUC-ROC: {best_auc}\")\n"
      ],
      "execution_count": null,
      "outputs": [
        {
          "output_type": "stream",
          "text": [
            "Found the best model with C:0.001 of AUC-ROC: 0.8363914374551177\n"
          ],
          "name": "stdout"
        }
      ]
    },
    {
      "cell_type": "markdown",
      "metadata": {
        "id": "uqSd5Bo3chPT"
      },
      "source": [
        "Hyperparameter search can become messy if you have lots of paramters. \n",
        "A brute force method to do such a search will be to do a grid search to fit tons of models. \n",
        "Thus, a smarter way to do hyperparameter search has been the subject of research. \n",
        "\n",
        "**TRY:** If interested, read [here](https://scikit-learn.org/stable/modules/grid_search.html) for more details and incorporate some of those ideas in the model building process. "
      ]
    },
    {
      "cell_type": "markdown",
      "metadata": {
        "id": "UkB6mMuSkkmN"
      },
      "source": [
        "# Report your results\n",
        "\n",
        "**NOTE:** You should use the test dataset only when you are done with hyperparameter search on your model. \n",
        "This is because the test dataset is not involved in the model building process, thereby making sure that the performance evaluation on the test dataset measures how well the proposed model is able to generalize."
      ]
    },
    {
      "cell_type": "code",
      "metadata": {
        "id": "pxqeBPIMko9Z",
        "colab": {
          "base_uri": "https://localhost:8080/"
        },
        "outputId": "b36d385f-50bf-4abe-c447-27861025a9f0"
      },
      "source": [
        "X_test, Y_test = preprocess(test_data, encoder, lb)\n",
        "auc_score = evaluate(best_model, X_test, Y_test)\n",
        "print(f\"AUC-ROC on the test dataset:{auc_score}\")\n"
      ],
      "execution_count": null,
      "outputs": [
        {
          "output_type": "stream",
          "text": [
            "AUC-ROC on the test dataset:0.8114507841261618\n"
          ],
          "name": "stdout"
        }
      ]
    },
    {
      "cell_type": "markdown",
      "metadata": {
        "id": "CmnEnKthyBGz"
      },
      "source": [
        "How do we select a threshold?\n",
        "Typically, we select a threshold which has high TPR and a low FPR. \n",
        "Thus, we would select a threshold at which TPR - FPR is maximum. \n",
        "If we have the model scores, we can slide the threshold and compute TPR and FPR for all those threshold values. \n",
        "This is conviniently done by `sklearn`'s `roc_curve` function. "
      ]
    },
    {
      "cell_type": "code",
      "metadata": {
        "colab": {
          "base_uri": "https://localhost:8080/"
        },
        "id": "SijMUQsjzRNW",
        "outputId": "7bfaecff-0af1-43b7-a1cc-00f099bf49a6"
      },
      "source": [
        "y_score = best_model.predict_proba(X_test)\n",
        "\n",
        "fpr, tpr, thresholds = roc_curve(Y_test, y_score[:, 1])\n",
        "idx = np.argmax(tpr - fpr)\n",
        "chosen_threshold = thresholds[idx]\n",
        "\n",
        "print(f\"The threshold with maximum (TPR - FPR) is: {chosen_threshold}\")"
      ],
      "execution_count": null,
      "outputs": [
        {
          "output_type": "stream",
          "text": [
            "The threshold with maximum (TPR - FPR) is: 0.03428982148383669\n"
          ],
          "name": "stdout"
        }
      ]
    },
    {
      "cell_type": "markdown",
      "metadata": {
        "id": "1tMcVxVX4KK8"
      },
      "source": [
        "Great! Where is this threshold located on the ROC curve?"
      ]
    },
    {
      "cell_type": "code",
      "metadata": {
        "colab": {
          "base_uri": "https://localhost:8080/",
          "height": 457
        },
        "id": "hzbAG9361tia",
        "outputId": "9a38e52a-44fb-41fc-b438-6a014f3bc027"
      },
      "source": [
        "fig, ax = plt.subplots(nrows=1, ncols=1, figsize=(10,5), dpi=100)\n",
        "\n",
        "plot_roc_curve(model, X_test, Y_test, color=\"#2E4052\", ax =ax)\n",
        "_ = ax.scatter(fpr[idx], tpr[idx], marker='o', color='black')"
      ],
      "execution_count": null,
      "outputs": [
        {
          "output_type": "display_data",
          "data": {
            "image/png": "[encoded data removed]",
            "text/plain": [
              "<Figure size 1000x500 with 1 Axes>"
            ]
          },
          "metadata": {
            "tags": [],
            "needs_background": "light"
          }
        }
      ]
    },
    {
      "cell_type": "markdown",
      "metadata": {
        "id": "f5sO-B1-BnFz"
      },
      "source": [
        "# Collaborate with Ensemble \n",
        "\n",
        "You can combine various models to form an ensemble model. \n",
        "There are various ways to combine these models. \n",
        "All of them serve a particular purpose (e.g. reducing variance, increasing accuracy. etc.). \n",
        "\n",
        "The simplest example of an ensemble is to combine the constituent models via voting. This can be done in two ways:\n",
        "*  soft voting - likelihood of the input belonging to a class is the mean of the likelihood predicted by the constituent models, \n",
        "*  hard-voting - likelihood of the input belonging to a class is determined by frequency of the constutuent models predicting that class for the input.\n",
        "\n",
        "Thus, if you are working in a team, let each member try out different models. At the end, combine your models and make an ensemble model. \n",
        "\n",
        "Here is the [User Guide](https://scikit-learn.org/stable/modules/ensemble.html#voting-classifier) and [API](https://scikit-learn.org/stable/modules/generated/sklearn.ensemble.VotingClassifier.html#sklearn.ensemble.VotingClassifier) for making such an ensemble model."
      ]
    },
    {
      "cell_type": "markdown",
      "metadata": {
        "id": "awguX_CZs17n"
      },
      "source": [
        "# Extras: Class imbalance\n",
        "\n",
        "**TRY:** \n",
        "As pointed out earlier, the dataset has class imbalance. \n",
        "Why not try resampling techniques to optimize for ROC AUC?\n",
        "\n",
        "\n"
      ]
    },
    {
      "cell_type": "markdown",
      "metadata": {
        "id": "jRQOtp3sNoKq"
      },
      "source": [
        "# Extras: Dimensionality Reduction\n",
        "\n",
        "**TRY:** You can try dimensionality reduction from 16 dimensions to just 2 dimensions and visualize 2D plot with just two categories - \"positive\" and \"negative\". \n",
        "To do this, try various dimension reduction techniques, for example, [LDA](https://scikit-learn.org/stable/modules/lda_qda.html#mathematical-formulation-of-lda-dimensionality-reduction), [PCA](https://scikit-learn.org/stable/modules/generated/sklearn.decomposition.PCA.html#sklearn.decomposition.PCA), [t-SNE](https://scikit-learn.org/stable/modules/generated/sklearn.manifold.TSNE.html). \n"
      ]
    },
    {
      "cell_type": "markdown",
      "metadata": {
        "id": "o-B7PKHpewgz"
      },
      "source": [
        "# Poster template \n",
        "\n",
        "It is often the most difficult task to communicate the project's finding concisely in 1 minute or in a 1 slide. \n",
        "Therefore, our suggestion will be to touch upon the following points in your poster -  \n",
        "\n",
        "1. Briefly define the problem\n",
        "2. Briefly describe the dataset \n",
        "3. What did you learn about various models/techniques/etc.? e.g. \n",
        "4. What's the auc score of your final model did you get?\n",
        "\n",
        "If you want to learn what matters in building such posters, check out this great [YouTube video](https://www.youtube.com/watch?v=1RwJbhkCA58).\n",
        "Specifically, we should try and avoid posters with a lot of stuff to avoid cognitive overload. \n",
        "The templates suggested in the video can be found [here](https://osf.io/ef53g/). \n",
        "Note these are for academic papers, however, you can follow a similar ideology to concizsely display your work. "
      ]
    }
  ]
}