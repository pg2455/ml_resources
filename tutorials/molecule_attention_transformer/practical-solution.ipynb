{
 "cells": [
  {
   "cell_type": "markdown",
   "metadata": {
    "id": "5fCEDCU_qrC0"
   },
   "source": [
    "# Molecule Attention Transformer\n"
   ]
  },
  {
   "cell_type": "markdown",
   "metadata": {},
   "source": [
    "In this turtorial, we will implement Molecule Attention Transformer (MAT) as proposed by [Maziarka et al. (2020)](https://arxiv.org/pdf/2002.08264.pdf). The authors have tested this model on a variety of benchmark datasets. However, we will be focussing only on Blood-Brain Barrier Penetration (BBBP) benchmark. \n",
    "\n",
    "Our objective will be to cover the following in this tutorial - \n",
    "1. Become familiar with deep learning for molecules.\n",
    "    - We will look at how the data for molecules look like. \n",
    "    - We will build some understanding of various tasks in deep learning for molecules\n",
    "    \n",
    "\n",
    "2. Develop our understanding of transformers and attention modules. \n",
    "\n",
    "3. Be creative and implement transformers to process molecules and apply it on our benchmark dataset\n",
    "\n",
    "\n",
    "\n",
    "### Steps\n",
    "We will go through the following steps \n",
    "\n",
    "1. **Investigate data** and build our understanding of the task\n",
    "2. Implement the **data loader** for training the model\n",
    "3. Implement the **Molecule Attention Transformer**\n",
    "4. **Train** the model\n",
    "5. **Evaluate** the model\n",
    "\n",
    "### Requirements \n",
    "\n",
    "Following python libraries will be required\n",
    "\n",
    "1. `rdkit`: RDKit is a collection of C++ and Python-based cheminformatics and machine learning tools for working with **small molecules**$^*$, including tools for molecular modeling, substructure searching, fingerprinting, molecular descriptors, and more. \n",
    "2. `deepchem`: DeepChem is a Python-based library that provides tools for deep learning in chemistry, including neural network architectures, molecular featurization, and machine learning models for tasks such as molecule generation, drug discovery, and property prediction. It also provides access to pre-trained models and datasets, as well as tools for model evaluation and visualization.\n",
    "3. `pytorch`: PyTorch is an open-source machine learning library and scientific computing framework that is built on top of Torch. It provides a range of tools and algorithms for building and training neural networks.\n",
    "\n",
    "____\n",
    "$^*$ **Small molecules vs other molecules**\n",
    "\n",
    "Small molecules are typically defined as organic or inorganic compounds with a relatively low molecular weight, usually less than 900 Daltons (Da). These molecules are often used as drugs, probes, or building blocks in various chemical and biological applications. In contrast, other molecules, such as proteins, nucleic acids, and polysaccharides, are typically much larger and more complex than small molecules. Proteins, for example, are made up of long chains of amino acids, which can range in size from a few dozen to several thousand atoms.\n",
    "\n",
    "There are several ways to distinguish between small molecules and other molecules. One of the most common approaches is based on molecular weight. As mentioned, small molecules are generally considered to have a molecular weight of less than 900 Da, while larger molecules such as proteins and nucleic acids can have molecular weights in the tens or hundreds of thousands of Daltons."
   ]
  },
  {
   "cell_type": "code",
   "execution_count": 1,
   "metadata": {},
   "outputs": [
    {
     "name": "stderr",
     "output_type": "stream",
     "text": [
      "UsageError: Line magic function `%%script` not found.\n"
     ]
    }
   ],
   "source": [
    "# install these libraries\n",
    "%%script false\n",
    "\n",
    "\n",
    "!pip install rdkit\n",
    "!pip install deepchem\n",
    "!pip install torch"
   ]
  },
  {
   "cell_type": "code",
   "execution_count": 2,
   "metadata": {},
   "outputs": [],
   "source": [
    "from IPython.core.magic import register_cell_magic\n",
    "\n",
    "from IPython.display import HTML, display\n",
    "\n",
    "def set_background(color):    \n",
    "    script = (\n",
    "        \"var cell = this.closest('.jp-CodeCell');\"\n",
    "        \"var editor = cell.querySelector('.jp-Editor');\"\n",
    "        \"editor.style.background='{}';\"\n",
    "        \"this.parentNode.removeChild(this)\"\n",
    "    ).format(color)\n",
    "    \n",
    "    display(HTML('<img src onerror=\"{}\" style=\"display:none\">'.format(script)))\n",
    "\n",
    "@register_cell_magic\n",
    "def background(color, cell):\n",
    "    set_background(color)\n",
    "    return eval(cell)"
   ]
  },
  {
   "cell_type": "markdown",
   "metadata": {},
   "source": [
    "# Blood-brain barrier penetration \n",
    "\n",
    "The blood-brain barrier is a specialized structure in the central nervous system that **separates the circulating blood from the brain tissue**.\n",
    "It consists of special cells that line the blood vessels in the brain.\n",
    "\n",
    "The blood-brain barrier is **essential for maintaining the brain's microenvironment and protecting it from potentially harmful substances in the blood**. \n",
    "However, it also **presents a significant challenge for drug delivery to the brain**, as many drugs cannot penetrate this barrier.\n",
    "\n",
    "**Blood-brain barrier penetration** refers to the ability of a substance, such as a drug, to cross the blood-brain barrier and enter the brain tissue. \n",
    "The degree of penetration depends on various factors, including the size, charge, and lipophilicity of the molecule. \n",
    "Some drugs are designed to have properties that allow them to penetrate the blood-brain barrier, while others require modifications or special delivery methods to achieve this."
   ]
  },
  {
   "cell_type": "markdown",
   "metadata": {
    "id": "GJBs_flRovLc"
   },
   "source": [
    "# 1. Investigate data\n"
   ]
  },
  {
   "cell_type": "markdown",
   "metadata": {
    "id": "2kk81nOHTXyD"
   },
   "source": [
    "## BBBP\n",
    "\n",
    "Source: https://deepchem.readthedocs.io/en/latest/api_reference/moleculenet.html#bbbp-datasets\n",
    "\n",
    "The blood-brain barrier penetration (BBBP) dataset is designed for the modeling and prediction of barrier permeability. \n",
    "As a membrane separating circulating blood and brain extracellular fluid, the blood-brain barrier blocks most drugs, hormones and neurotransmitters. \n",
    "Thus penetration of the barrier forms a long-standing issue in development of drugs targeting central nervous system.\n",
    "\n",
    "- This dataset includes binary labels for over 2000 compounds on their permeability properties.\n",
    "\n",
    "- Scaffold splitting is recommended for this dataset.\n",
    "\n",
    "- The raw data csv file contains columns below:\n",
    "\n",
    " - **“name”** - Name of the compound\n",
    "\n",
    " - **“smiles”** - SMILES representation of the molecular structure (https://tinyurl.com/yjh8um7k)\n",
    "\n",
    " - **“p_np”** - Binary labels for penetration/non-penetration\n"
   ]
  },
  {
   "cell_type": "markdown",
   "metadata": {},
   "source": [
    "## SMILES representation of the molecular structure\n",
    "\n",
    "SMILES (**Simplified Molecular Input Line Entry System**) is a string-based notation system used to represent the structure of a molecule. It is a way to encode the molecular structure using a series of alphanumeric characters, which can be easily processed by computer programs.\n",
    "\n",
    "In SMILES notation, atoms are represented by their atomic symbols, and bonds between atoms are represented by various symbols and characters.\n",
    "For example, a single bond is represented by a hyphen (-), a double bond is represented by an equals sign (=), and a triple bond is represented by a pound sign (#). \n",
    "Other symbols and characters are used to represent aromaticity, chirality, and other properties of the molecule.\n",
    "\n",
    "One of the advantages of SMILES notation is its simplicity and compactness, which makes it useful for storing and sharing chemical information. \n",
    "It is widely used in chemical databases, chemical software, and chemical information systems."
   ]
  },
  {
   "cell_type": "markdown",
   "metadata": {
    "id": "s_iUnPLDg_vW"
   },
   "source": [
    "___"
   ]
  },
  {
   "cell_type": "markdown",
   "metadata": {
    "id": "VvI6o7X1aRqH"
   },
   "source": [
    "# 1. Initial Data Analysis"
   ]
  },
  {
   "cell_type": "markdown",
   "metadata": {
    "id": "4a6123pshnVA"
   },
   "source": [
    "### Import required libraries"
   ]
  },
  {
   "cell_type": "code",
   "execution_count": 3,
   "metadata": {
    "id": "3V1UifKATmpT"
   },
   "outputs": [
    {
     "name": "stderr",
     "output_type": "stream",
     "text": [
      "Skipped loading some Jax models, missing a dependency. No module named 'jax'\n"
     ]
    },
    {
     "name": "stdout",
     "output_type": "stream",
     "text": [
      "Using GPU: cuda\n"
     ]
    }
   ],
   "source": [
    "# Import required libraries for data analysis and visualisation\n",
    "import matplotlib.pyplot as plt\n",
    "from matplotlib.lines import Line2D\n",
    "import numpy as np\n",
    "\n",
    "import pandas as pd\n",
    "import rdkit as rdkit\n",
    "from rdkit import Chem, DataStructs\n",
    "from rdkit.Chem import Draw\n",
    "from rdkit.Chem.rdchem import Mol\n",
    "from rdkit.Chem.rdmolops import GetAdjacencyMatrix, GetDistanceMatrix\n",
    "from rdkit.Chem.MolStandardize.rdMolStandardize import LargestFragmentChooser\n",
    "from rdkit import RDLogger\n",
    "from rdkit.Chem import AllChem\n",
    "\n",
    "from deepchem.splits import ScaffoldSplitter\n",
    "\n",
    "import seaborn as sns\n",
    "from sklearn.decomposition import PCA\n",
    "from sklearn.metrics import roc_auc_score\n",
    "\n",
    "import torch\n",
    "import deepchem\n",
    "\n",
    "import torch.nn.functional as F\n",
    "import torch.nn as nn\n",
    "\n",
    "# fix seed for reproducibility \n",
    "rng = np.random.RandomState(1)\n",
    "torch.manual_seed(rng.randint(np.iinfo(int).max))\n",
    "\n",
    "# it is a good practice to define `device` globally\n",
    "if torch.cuda.is_available():\n",
    "    device = torch.device(\"cuda\")\n",
    "    print(\"Using GPU:\", device)\n",
    "else:\n",
    "    device = torch.device(\"cpu\")\n",
    "    print(\"No GPU -> using CPU:\", device)\n",
    "    \n",
    "import pathlib"
   ]
  },
  {
   "cell_type": "code",
   "execution_count": 4,
   "metadata": {},
   "outputs": [],
   "source": [
    "# Get data from MoleculeNet\n",
    "bbbp = pd.read_csv(\"https://deepchemdata.s3-us-west-1.amazonaws.com/datasets/BBBP.csv\")\n",
    "\n",
    "# Change column name \"p_np\" to \"permeable\" for a better readibility\n",
    "bbbp = bbbp[[\"smiles\", \"p_np\", \"name\"]].reset_index(drop=True).rename({\"p_np\": \"permeable\"}, axis=1)"
   ]
  },
  {
   "cell_type": "code",
   "execution_count": 5,
   "metadata": {},
   "outputs": [
    {
     "data": {
      "text/html": [
       "<div>\n",
       "<style scoped>\n",
       "    .dataframe tbody tr th:only-of-type {\n",
       "        vertical-align: middle;\n",
       "    }\n",
       "\n",
       "    .dataframe tbody tr th {\n",
       "        vertical-align: top;\n",
       "    }\n",
       "\n",
       "    .dataframe thead th {\n",
       "        text-align: right;\n",
       "    }\n",
       "</style>\n",
       "<table border=\"1\" class=\"dataframe\">\n",
       "  <thead>\n",
       "    <tr style=\"text-align: right;\">\n",
       "      <th></th>\n",
       "      <th>smiles</th>\n",
       "      <th>permeable</th>\n",
       "      <th>name</th>\n",
       "    </tr>\n",
       "  </thead>\n",
       "  <tbody>\n",
       "    <tr>\n",
       "      <th>0</th>\n",
       "      <td>[Cl].CC(C)NCC(O)COc1cccc2ccccc12</td>\n",
       "      <td>1</td>\n",
       "      <td>Propanolol</td>\n",
       "    </tr>\n",
       "    <tr>\n",
       "      <th>1</th>\n",
       "      <td>C(=O)(OC(C)(C)C)CCCc1ccc(cc1)N(CCCl)CCCl</td>\n",
       "      <td>1</td>\n",
       "      <td>Terbutylchlorambucil</td>\n",
       "    </tr>\n",
       "    <tr>\n",
       "      <th>2</th>\n",
       "      <td>c12c3c(N4CCN(C)CC4)c(F)cc1c(c(C(O)=O)cn2C(C)CO...</td>\n",
       "      <td>1</td>\n",
       "      <td>40730</td>\n",
       "    </tr>\n",
       "    <tr>\n",
       "      <th>3</th>\n",
       "      <td>C1CCN(CC1)Cc1cccc(c1)OCCCNC(=O)C</td>\n",
       "      <td>1</td>\n",
       "      <td>24</td>\n",
       "    </tr>\n",
       "    <tr>\n",
       "      <th>4</th>\n",
       "      <td>Cc1onc(c2ccccc2Cl)c1C(=O)N[C@H]3[C@H]4SC(C)(C)...</td>\n",
       "      <td>1</td>\n",
       "      <td>cloxacillin</td>\n",
       "    </tr>\n",
       "  </tbody>\n",
       "</table>\n",
       "</div>"
      ],
      "text/plain": [
       "                                              smiles  permeable  \\\n",
       "0                   [Cl].CC(C)NCC(O)COc1cccc2ccccc12          1   \n",
       "1           C(=O)(OC(C)(C)C)CCCc1ccc(cc1)N(CCCl)CCCl          1   \n",
       "2  c12c3c(N4CCN(C)CC4)c(F)cc1c(c(C(O)=O)cn2C(C)CO...          1   \n",
       "3                   C1CCN(CC1)Cc1cccc(c1)OCCCNC(=O)C          1   \n",
       "4  Cc1onc(c2ccccc2Cl)c1C(=O)N[C@H]3[C@H]4SC(C)(C)...          1   \n",
       "\n",
       "                   name  \n",
       "0            Propanolol  \n",
       "1  Terbutylchlorambucil  \n",
       "2                 40730  \n",
       "3                    24  \n",
       "4           cloxacillin  "
      ]
     },
     "execution_count": 5,
     "metadata": {},
     "output_type": "execute_result"
    }
   ],
   "source": [
    "bbbp.head()"
   ]
  },
  {
   "cell_type": "markdown",
   "metadata": {},
   "source": [
    "#### Look at an example SMILES string"
   ]
  },
  {
   "cell_type": "code",
   "execution_count": 6,
   "metadata": {},
   "outputs": [
    {
     "data": {
      "text/plain": [
       "('[Cl].CC(C)NCC(O)COc1cccc2ccccc12', str)"
      ]
     },
     "execution_count": 6,
     "metadata": {},
     "output_type": "execute_result"
    }
   ],
   "source": [
    "# look at the smiles string\n",
    "s = bbbp['smiles'][0]\n",
    "s, type(s)"
   ]
  },
  {
   "cell_type": "code",
   "execution_count": 7,
   "metadata": {},
   "outputs": [
    {
     "data": {
      "image/png": "[encoded data removed]",
      "text/plain": [
       "<rdkit.Chem.rdchem.Mol at 0x7f7cd381c6d0>"
      ]
     },
     "execution_count": 7,
     "metadata": {},
     "output_type": "execute_result"
    }
   ],
   "source": [
    "# Visualize this molecule\n",
    "mol = Chem.MolFromSmiles(s)\n",
    "mol"
   ]
  },
  {
   "cell_type": "code",
   "execution_count": 8,
   "metadata": {},
   "outputs": [
    {
     "name": "stdout",
     "output_type": "stream",
     "text": [
      "Type of mol: <class 'rdkit.Chem.rdchem.Mol'>\n",
      "Number of atoms: 20\n"
     ]
    }
   ],
   "source": [
    "# There are numeerous things that you can do with `rdkit.Chem.rdchem.Mol` object.\n",
    "# more on that here - https://www.rdkit.org/docs/GettingStartedInPython.html#working-with-molecules\n",
    "print(f'Type of mol: {type(mol)}')\n",
    "print(f'Number of atoms: {mol.GetNumAtoms()}')\n"
   ]
  },
  {
   "cell_type": "markdown",
   "metadata": {},
   "source": [
    "#### Choosing the fragment of the molecule \n",
    "\n",
    "In the context of molecular modeling and drug discovery, it is often useful to work with **simplified representations of complex molecules**. \n",
    "One way to simplify a molecule is to extract the largest fragment, which is the part of the molecule that contains the most atoms and is most likely to have the dominant biological activity.\n",
    "\n",
    "In some cases, a molecule may contain multiple fragments that have different biological activities or toxicities. In these cases, it may be desirable to extract only the largest fragment, which is likely to contain the most relevant or active part of the molecule, while removing any potentially harmful or irrelevant fragments."
   ]
  },
  {
   "cell_type": "code",
   "execution_count": 9,
   "metadata": {},
   "outputs": [
    {
     "name": "stderr",
     "output_type": "stream",
     "text": [
      "[02:12:29] Running LargestFragmentChooser\n",
      "[02:12:29] Fragment: [Cl]\n",
      "[02:12:29] New largest fragment: [Cl] (1)\n",
      "[02:12:29] Fragment: CC(C)NCC(O)COc1cccc2ccccc12\n",
      "[02:12:29] New largest fragment: CC(C)NCC(O)COc1cccc2ccccc12 (40)\n"
     ]
    },
    {
     "data": {
      "image/png": "[encoded data removed]",
      "text/plain": [
       "<rdkit.Chem.rdchem.Mol at 0x7f7cd381cb30>"
      ]
     },
     "execution_count": 9,
     "metadata": {},
     "output_type": "execute_result"
    }
   ],
   "source": [
    "LargestFragmentChooser().choose(mol)"
   ]
  },
  {
   "cell_type": "markdown",
   "metadata": {},
   "source": [
    "<div class=\"alert-info\">\n",
    "<br>\n",
    "<strong>Note</strong>: Chlorine has been removed.\n",
    "<br><br>\n",
    "</div>"
   ]
  },
  {
   "cell_type": "markdown",
   "metadata": {},
   "source": [
    "#### Molecular Fingerprint \n",
    "\n",
    "Using a string representation (SMILES) is one way to represent molecules.\n",
    "Though readable, this simplification doesn't capture intricacies of atoms and their connecitivity. \n",
    "\n",
    "One way they do this is by using special codes called \"fingerprints\" to describe the molecules. \n",
    "These fingerprints help scientists understand what each molecule is made of and how it's put together.\n",
    "\n",
    "One type of fingerprint is called a **\"Morgan fingerprint\"**. \n",
    "It works like a map of the molecule, showing all the little parts (called \"substructures\") that make it up. \n",
    "The fingerprint is made by going all around the molecule, and looking at each group of atoms (the tiny building blocks that make up the molecule) in turn.\n",
    "\n",
    "Then, for each group of atoms, the Morgan fingerprint gives it a special code (called a \"hash\"). \n",
    "This code tells us what the group of atoms looks like and how it's connected to the other parts of the molecule.\n",
    "The `radius` is set in advanced to determine the number of hops to consider from the concerned atom. \n",
    "And by putting all these codes together in a long list, we get the fingerprint for the whole molecule!\n",
    "\n",
    "Even though the Morgan fingerprint is a code, it still tells us important things about the molecule. \n",
    "For example, we can use it to compare one molecule to another and see how similar they are. \n",
    "This is really useful when scientists want to find molecules that work in the same way, like medicines that can treat the same disease.\n",
    "\n",
    "The resulting set of hashed substructures is then used to generate a **binary bit vector**, where each bit represents the presence or absence of a particular substructure in the molecule. \n",
    "The length of the bit vector can vary depending on the size and complexity of the substructure set, but typically ranges from a few hundred to tens of thousands of bits."
   ]
  },
  {
   "cell_type": "code",
   "execution_count": 10,
   "metadata": {},
   "outputs": [
    {
     "data": {
      "text/plain": [
       "array([0, 1, 0, ..., 0, 0, 0])"
      ]
     },
     "execution_count": 10,
     "metadata": {},
     "output_type": "execute_result"
    }
   ],
   "source": [
    "np.array(Chem.AllChem.GetMorganFingerprintAsBitVect(mol, radius=2, nBits=2048))"
   ]
  },
  {
   "cell_type": "markdown",
   "metadata": {
    "id": "oR0A0NbChsnd"
   },
   "source": [
    "#### Defining few useful functions"
   ]
  },
  {
   "cell_type": "code",
   "execution_count": 11,
   "metadata": {
    "id": "dxvW_oUvUFYb"
   },
   "outputs": [],
   "source": [
    "# Define few functions that we need for processing data.\n",
    "# Note: Original source for the utility functions used below is\n",
    "# https://blog.reverielabs.com/mapping-chemical-space-with-umap/\n",
    "\n",
    "def get_largest_fragment_from_smiles(s: str):\n",
    "    mol = Chem.MolFromSmiles(s)\n",
    "    if mol:\n",
    "        clean_mol = LargestFragmentChooser().choose(mol)\n",
    "        return Chem.MolToSmiles(clean_mol)\n",
    "    return None\n",
    "\n",
    "def compute_ecfp_descriptors(smiles_list):\n",
    "    \"\"\" Computes ecfp descriptors \"\"\"\n",
    "    \n",
    "    keep_idx = []\n",
    "    descriptors = []\n",
    "    for i, smiles in enumerate(smiles_list):\n",
    "        ecfp = _compute_single_ecfp_descriptor(smiles)\n",
    "        if ecfp is not None:\n",
    "            keep_idx.append(i)\n",
    "            descriptors.append(ecfp)\n",
    "\n",
    "    return np.vstack(descriptors), keep_idx\n",
    "\n",
    "def _compute_single_ecfp_descriptor(smiles):\n",
    "    try:\n",
    "        mol = Chem.MolFromSmiles(smiles)\n",
    "    except Exception as E:\n",
    "        return None\n",
    "\n",
    "    if mol:\n",
    "        fp = Chem.AllChem.GetMorganFingerprintAsBitVect(mol, radius=2, nBits=2048)\n",
    "        return np.array(fp)\n",
    "    \n",
    "    return None"
   ]
  },
  {
   "cell_type": "code",
   "execution_count": 12,
   "metadata": {},
   "outputs": [
    {
     "name": "stdout",
     "output_type": "stream",
     "text": [
      "CC(C)NCC(O)COc1cccc2ccccc12\n",
      "[[0 1 0 ... 0 0 0]\n",
      " [0 0 0 ... 0 0 0]] (2, 2048) [0, 1]\n"
     ]
    },
    {
     "name": "stderr",
     "output_type": "stream",
     "text": [
      "[02:12:29] Running LargestFragmentChooser\n",
      "[02:12:29] Fragment: [Cl]\n",
      "[02:12:29] New largest fragment: [Cl] (1)\n",
      "[02:12:29] Fragment: CC(C)NCC(O)COc1cccc2ccccc12\n",
      "[02:12:29] New largest fragment: CC(C)NCC(O)COc1cccc2ccccc12 (40)\n"
     ]
    }
   ],
   "source": [
    "# check the above defined functions\n",
    "x = get_largest_fragment_from_smiles(bbbp['smiles'][0])\n",
    "print(x)\n",
    "\n",
    "x, y = compute_ecfp_descriptors(bbbp['smiles'][:2])\n",
    "print(x, x.shape, y)\n"
   ]
  },
  {
   "cell_type": "markdown",
   "metadata": {
    "id": "qafnp66ahhhO"
   },
   "source": [
    "### Loading and cleaning up data"
   ]
  },
  {
   "cell_type": "code",
   "execution_count": null,
   "metadata": {
    "id": "WSmx8Q05c5Vf"
   },
   "outputs": [],
   "source": [
    "# Remove extra fragments in SMILES since they are not relevant to BBB permeability\n",
    "bbbp[\"smiles\"] = bbbp[\"smiles\"].apply(get_largest_fragment_from_smiles).dropna()"
   ]
  },
  {
   "cell_type": "code",
   "execution_count": 14,
   "metadata": {},
   "outputs": [
    {
     "data": {
      "text/html": [
       "<div>\n",
       "<style scoped>\n",
       "    .dataframe tbody tr th:only-of-type {\n",
       "        vertical-align: middle;\n",
       "    }\n",
       "\n",
       "    .dataframe tbody tr th {\n",
       "        vertical-align: top;\n",
       "    }\n",
       "\n",
       "    .dataframe thead th {\n",
       "        text-align: right;\n",
       "    }\n",
       "</style>\n",
       "<table border=\"1\" class=\"dataframe\">\n",
       "  <thead>\n",
       "    <tr style=\"text-align: right;\">\n",
       "      <th></th>\n",
       "      <th>smiles</th>\n",
       "      <th>permeable</th>\n",
       "      <th>name</th>\n",
       "    </tr>\n",
       "  </thead>\n",
       "  <tbody>\n",
       "    <tr>\n",
       "      <th>0</th>\n",
       "      <td>CC(C)NCC(O)COc1cccc2ccccc12</td>\n",
       "      <td>1</td>\n",
       "      <td>Propanolol</td>\n",
       "    </tr>\n",
       "    <tr>\n",
       "      <th>1</th>\n",
       "      <td>CC(C)(C)OC(=O)CCCc1ccc(N(CCCl)CCCl)cc1</td>\n",
       "      <td>1</td>\n",
       "      <td>Terbutylchlorambucil</td>\n",
       "    </tr>\n",
       "    <tr>\n",
       "      <th>2</th>\n",
       "      <td>CC1COc2c(N3CCN(C)CC3)c(F)cc3c(=O)c(C(=O)O)cn1c23</td>\n",
       "      <td>1</td>\n",
       "      <td>40730</td>\n",
       "    </tr>\n",
       "    <tr>\n",
       "      <th>3</th>\n",
       "      <td>CC(=O)NCCCOc1cccc(CN2CCCCC2)c1</td>\n",
       "      <td>1</td>\n",
       "      <td>24</td>\n",
       "    </tr>\n",
       "    <tr>\n",
       "      <th>4</th>\n",
       "      <td>Cc1onc(-c2ccccc2Cl)c1C(=O)N[C@@H]1C(=O)N2[C@@H...</td>\n",
       "      <td>1</td>\n",
       "      <td>cloxacillin</td>\n",
       "    </tr>\n",
       "  </tbody>\n",
       "</table>\n",
       "</div>"
      ],
      "text/plain": [
       "                                              smiles  permeable  \\\n",
       "0                        CC(C)NCC(O)COc1cccc2ccccc12          1   \n",
       "1             CC(C)(C)OC(=O)CCCc1ccc(N(CCCl)CCCl)cc1          1   \n",
       "2   CC1COc2c(N3CCN(C)CC3)c(F)cc3c(=O)c(C(=O)O)cn1c23          1   \n",
       "3                     CC(=O)NCCCOc1cccc(CN2CCCCC2)c1          1   \n",
       "4  Cc1onc(-c2ccccc2Cl)c1C(=O)N[C@@H]1C(=O)N2[C@@H...          1   \n",
       "\n",
       "                   name  \n",
       "0            Propanolol  \n",
       "1  Terbutylchlorambucil  \n",
       "2                 40730  \n",
       "3                    24  \n",
       "4           cloxacillin  "
      ]
     },
     "execution_count": 14,
     "metadata": {},
     "output_type": "execute_result"
    }
   ],
   "source": [
    "bbbp.head()"
   ]
  },
  {
   "cell_type": "code",
   "execution_count": 15,
   "metadata": {},
   "outputs": [
    {
     "data": {
      "text/plain": [
       "1    1567\n",
       "0     483\n",
       "Name: permeable, dtype: int64"
      ]
     },
     "execution_count": 15,
     "metadata": {},
     "output_type": "execute_result"
    }
   ],
   "source": [
    "bbbp['permeable'].value_counts()"
   ]
  },
  {
   "cell_type": "markdown",
   "metadata": {},
   "source": [
    "<div class=\"alert-info\">\n",
    "<br>\n",
    "<strong>Note</strong>: The dataset has a class imbalance\n",
    "<br><br>\n",
    "</div>"
   ]
  },
  {
   "cell_type": "code",
   "execution_count": 16,
   "metadata": {
    "id": "kLDvBF48dQ1b"
   },
   "outputs": [],
   "source": [
    "## Data Transformation\n",
    "# Compute desrciptors while keeping track of the ones that failed\n",
    "ecfp_descriptors, keep_idx = compute_ecfp_descriptors(bbbp[\"smiles\"])\n",
    "\n",
    "# Keep only the ones that we were able to generate features for\n",
    "bbbp = bbbp.iloc[keep_idx]"
   ]
  },
  {
   "cell_type": "markdown",
   "metadata": {
    "id": "X7wB-_N3hW3c"
   },
   "source": [
    "#### Visualising molecules via PCA embeddings of fingerprints"
   ]
  },
  {
   "cell_type": "markdown",
   "metadata": {},
   "source": [
    "The fingerprints, as explained above, carries important information about the type of atoms and the corresponding structural information.\n",
    "This structural information lend the molecules to its characteristics properties. \n",
    "\n",
    "Thus, doing PCA on these fingerprints may allow us to visualize how the molecules might be clustered together.\n"
   ]
  },
  {
   "cell_type": "code",
   "execution_count": 17,
   "metadata": {
    "id": "2-fiOkLgdneM"
   },
   "outputs": [],
   "source": [
    "# Get PCA embeddings\n",
    "pca = PCA(n_components=2)\n",
    "X_pca = pca.fit_transform(ecfp_descriptors)\n",
    "bbbp[\"x0\"], bbbp[\"x1\"] = X_pca[:,0], X_pca[:,1]"
   ]
  },
  {
   "cell_type": "code",
   "execution_count": 18,
   "metadata": {
    "colab": {
     "base_uri": "https://localhost:8080/",
     "height": 513
    },
    "id": "C1HKxv1PVY9q",
    "outputId": "857d2167-f00a-4e9c-9777-0726386897bd"
   },
   "outputs": [
    {
     "data": {
      "image/png": "[encoded data removed]",
      "text/plain": [
       "<Figure size 720x720 with 1 Axes>"
      ]
     },
     "metadata": {
      "needs_background": "light"
     },
     "output_type": "display_data"
    }
   ],
   "source": [
    "# Scatter plot\n",
    "palette = sns.color_palette([\"#E8384F\", \"#4178BC\"])\n",
    "plt.figure(figsize=(10,10))\n",
    "sns.scatterplot(data=bbbp,\n",
    "                x=\"x0\",\n",
    "                y=\"x1\",\n",
    "                hue=\"permeable\",\n",
    "                alpha=0.5,\n",
    "                palette=palette)\n",
    "plt.title(\"PCA Embedding of BBBP Dataset\")\n",
    "plt.show()"
   ]
  },
  {
   "cell_type": "code",
   "execution_count": 19,
   "metadata": {
    "colab": {
     "base_uri": "https://localhost:8080/",
     "height": 424
    },
    "id": "IUGJ_NszWkyb",
    "outputId": "3b6d651b-fc68-45a2-d83c-b061617f9ea3"
   },
   "outputs": [
    {
     "data": {
      "text/html": [
       "<div>\n",
       "<style scoped>\n",
       "    .dataframe tbody tr th:only-of-type {\n",
       "        vertical-align: middle;\n",
       "    }\n",
       "\n",
       "    .dataframe tbody tr th {\n",
       "        vertical-align: top;\n",
       "    }\n",
       "\n",
       "    .dataframe thead th {\n",
       "        text-align: right;\n",
       "    }\n",
       "</style>\n",
       "<table border=\"1\" class=\"dataframe\">\n",
       "  <thead>\n",
       "    <tr style=\"text-align: right;\">\n",
       "      <th></th>\n",
       "      <th>smiles</th>\n",
       "      <th>permeable</th>\n",
       "      <th>name</th>\n",
       "    </tr>\n",
       "  </thead>\n",
       "  <tbody>\n",
       "    <tr>\n",
       "      <th>0</th>\n",
       "      <td>CC(C)NCC(O)COc1cccc2ccccc12</td>\n",
       "      <td>1</td>\n",
       "      <td>Propanolol</td>\n",
       "    </tr>\n",
       "    <tr>\n",
       "      <th>1</th>\n",
       "      <td>CC(C)(C)OC(=O)CCCc1ccc(N(CCCl)CCCl)cc1</td>\n",
       "      <td>1</td>\n",
       "      <td>Terbutylchlorambucil</td>\n",
       "    </tr>\n",
       "    <tr>\n",
       "      <th>2</th>\n",
       "      <td>CC1COc2c(N3CCN(C)CC3)c(F)cc3c(=O)c(C(=O)O)cn1c23</td>\n",
       "      <td>1</td>\n",
       "      <td>40730</td>\n",
       "    </tr>\n",
       "    <tr>\n",
       "      <th>3</th>\n",
       "      <td>CC(=O)NCCCOc1cccc(CN2CCCCC2)c1</td>\n",
       "      <td>1</td>\n",
       "      <td>24</td>\n",
       "    </tr>\n",
       "    <tr>\n",
       "      <th>4</th>\n",
       "      <td>Cc1onc(-c2ccccc2Cl)c1C(=O)N[C@@H]1C(=O)N2[C@@H...</td>\n",
       "      <td>1</td>\n",
       "      <td>cloxacillin</td>\n",
       "    </tr>\n",
       "    <tr>\n",
       "      <th>...</th>\n",
       "      <td>...</td>\n",
       "      <td>...</td>\n",
       "      <td>...</td>\n",
       "    </tr>\n",
       "    <tr>\n",
       "      <th>2045</th>\n",
       "      <td>O=c1[nH]c2cc(Cl)c(Cl)c([N+](=O)[O-])c2[nH]c1=O</td>\n",
       "      <td>1</td>\n",
       "      <td>licostinel</td>\n",
       "    </tr>\n",
       "    <tr>\n",
       "      <th>2046</th>\n",
       "      <td>C[S+](CC[C@H](N)C(=O)[O-])C[C@H]1O[C@@H](n2cnc...</td>\n",
       "      <td>1</td>\n",
       "      <td>ademetionine(adenosyl-methionine)</td>\n",
       "    </tr>\n",
       "    <tr>\n",
       "      <th>2047</th>\n",
       "      <td>CC(Cc1ccccc1)n1cc([N-]C(=O)Nc2ccccc2)[o+]n1</td>\n",
       "      <td>1</td>\n",
       "      <td>mesocarb</td>\n",
       "    </tr>\n",
       "    <tr>\n",
       "      <th>2048</th>\n",
       "      <td>CCc1c(C)[n+]([NH-])c(-c2ccc(OC)c(OC)c2)c2cc(OC...</td>\n",
       "      <td>1</td>\n",
       "      <td>tofisoline</td>\n",
       "    </tr>\n",
       "    <tr>\n",
       "      <th>2049</th>\n",
       "      <td>[N-]=[N+]=NCC(=O)N[C@H](CO)[C@H](O)c1ccc([N+](...</td>\n",
       "      <td>1</td>\n",
       "      <td>azidamfenicol</td>\n",
       "    </tr>\n",
       "  </tbody>\n",
       "</table>\n",
       "<p>2039 rows × 3 columns</p>\n",
       "</div>"
      ],
      "text/plain": [
       "                                                 smiles  permeable  \\\n",
       "0                           CC(C)NCC(O)COc1cccc2ccccc12          1   \n",
       "1                CC(C)(C)OC(=O)CCCc1ccc(N(CCCl)CCCl)cc1          1   \n",
       "2      CC1COc2c(N3CCN(C)CC3)c(F)cc3c(=O)c(C(=O)O)cn1c23          1   \n",
       "3                        CC(=O)NCCCOc1cccc(CN2CCCCC2)c1          1   \n",
       "4     Cc1onc(-c2ccccc2Cl)c1C(=O)N[C@@H]1C(=O)N2[C@@H...          1   \n",
       "...                                                 ...        ...   \n",
       "2045     O=c1[nH]c2cc(Cl)c(Cl)c([N+](=O)[O-])c2[nH]c1=O          1   \n",
       "2046  C[S+](CC[C@H](N)C(=O)[O-])C[C@H]1O[C@@H](n2cnc...          1   \n",
       "2047        CC(Cc1ccccc1)n1cc([N-]C(=O)Nc2ccccc2)[o+]n1          1   \n",
       "2048  CCc1c(C)[n+]([NH-])c(-c2ccc(OC)c(OC)c2)c2cc(OC...          1   \n",
       "2049  [N-]=[N+]=NCC(=O)N[C@H](CO)[C@H](O)c1ccc([N+](...          1   \n",
       "\n",
       "                                   name  \n",
       "0                            Propanolol  \n",
       "1                  Terbutylchlorambucil  \n",
       "2                                 40730  \n",
       "3                                    24  \n",
       "4                           cloxacillin  \n",
       "...                                 ...  \n",
       "2045                         licostinel  \n",
       "2046  ademetionine(adenosyl-methionine)  \n",
       "2047                           mesocarb  \n",
       "2048                         tofisoline  \n",
       "2049                      azidamfenicol  \n",
       "\n",
       "[2039 rows x 3 columns]"
      ]
     },
     "execution_count": 19,
     "metadata": {},
     "output_type": "execute_result"
    }
   ],
   "source": [
    "# Remvoe PCA embeddings to clean up the df and print the summary of the data\n",
    "bbbp = bbbp.drop(labels=['x0', 'x1'], axis=1)\n",
    "bbbp"
   ]
  },
  {
   "cell_type": "markdown",
   "metadata": {
    "id": "mvyqj4XgZNWB"
   },
   "source": [
    "# 2. Data Loader\n",
    "\n",
    "We aim to do the following in this section\n",
    "\n",
    "1. Understand how to convert SMILES to a graphical representation\n",
    "2. Understand how to create features for these molecules\n",
    "3. Understand how to split data for cross-validation"
   ]
  },
  {
   "cell_type": "markdown",
   "metadata": {},
   "source": [
    "#### SMILES to Graphical representation of molecules"
   ]
  },
  {
   "cell_type": "markdown",
   "metadata": {},
   "source": [
    "**Q**: How do we convert SMILES representation of molecules to graph?\n",
    "\n",
    "We need the following: \n",
    "1. Adjacency matrix\n",
    "2. Node features\n",
    "3. Edge features\n",
    "\n",
    "We will be using a lot of `rdkit` modules to extract these features, e.g., `rdkit.Chem.rdmolops`"
   ]
  },
  {
   "cell_type": "code",
   "execution_count": 20,
   "metadata": {},
   "outputs": [
    {
     "name": "stdout",
     "output_type": "stream",
     "text": [
      "Number of atoms: 19, Shape of the adjacency matrix: (19, 19)\n"
     ]
    }
   ],
   "source": [
    "# adjacency matrix\n",
    "mol = Chem.MolFromSmiles(bbbp['smiles'][0])\n",
    "adj = GetAdjacencyMatrix(mol)\n",
    "print(f'Number of atoms: {mol.GetNumAtoms()}, Shape of the adjacency matrix: {adj.shape}')"
   ]
  },
  {
   "cell_type": "markdown",
   "metadata": {},
   "source": [
    "We can get a distance matrix too. `GetDistanceMatrix` usees an algorithm called \"atom typing\" to assign atomic symbols and coordinates to the atoms in the molecule. This algorithm uses rules based on the SMILES syntax and valence infomration to determine the number of bonds that each atom forms, and to assign approximate 3d coordinates to each atom based on the bond topology.\n"
   ]
  },
  {
   "cell_type": "code",
   "execution_count": 21,
   "metadata": {},
   "outputs": [
    {
     "data": {
      "text/plain": [
       "array([[0., 1., 2., 2., 3., 4.],\n",
       "       [1., 0., 1., 1., 2., 3.],\n",
       "       [2., 1., 0., 2., 3., 4.],\n",
       "       [2., 1., 2., 0., 1., 2.],\n",
       "       [3., 2., 3., 1., 0., 1.],\n",
       "       [4., 3., 4., 2., 1., 0.]])"
      ]
     },
     "execution_count": 21,
     "metadata": {},
     "output_type": "execute_result"
    }
   ],
   "source": [
    "dist = GetDistanceMatrix(mol)\n",
    "dist[:6, :6] "
   ]
  },
  {
   "cell_type": "markdown",
   "metadata": {},
   "source": [
    "Finally, we need to extract atom features and bond features. \n",
    "We will use the standard practices to do so. \n",
    "I found [this](https://www.blopig.com/blog/2022/02/how-to-turn-a-smiles-string-into-a-molecular-graph-for-pytorch-geometric/) tutorial useful, so we will follow their code to extract these features."
   ]
  },
  {
   "cell_type": "markdown",
   "metadata": {},
   "source": [
    "#### Featurization of molecules"
   ]
  },
  {
   "cell_type": "code",
   "execution_count": 22,
   "metadata": {},
   "outputs": [],
   "source": [
    "# Source: https://www.blopig.com/blog/2022/02/how-to-turn-a-smiles-string-into-a-molecular-graph-for-pytorch-geometric/\n",
    "\n",
    "\n",
    "def one_hot_encoding(x, permitted_list):\n",
    "    if x not in permitted_list:\n",
    "        x = permitted_list[-1]\n",
    "    \n",
    "    return [int(boolean_value) for boolean_value in list(map(lambda s: x == s, permitted_list))]\n",
    "\n",
    "\n",
    "def get_atom_features(atom, \n",
    "                      use_chirality = True, \n",
    "                      hydrogens_implicit = True):\n",
    "    \"\"\"\n",
    "    Takes an RDKit atom object as input and gives a 1d-numpy array of atom features as output.\n",
    "    \"\"\"\n",
    "\n",
    "    # define list of permitted atoms\n",
    "    \n",
    "    permitted_list_of_atoms =  ['C','N','O','S','F','Si','P','Cl','Br','Mg','Na','Ca','Fe','As','Al','I', 'B','V','K','Tl','Yb','Sb','Sn','Ag','Pd','Co','Se','Ti','Zn', 'Li','Ge','Cu','Au','Ni','Cd','In','Mn','Zr','Cr','Pt','Hg','Pb','Unknown']\n",
    "    \n",
    "    if hydrogens_implicit == False:\n",
    "        permitted_list_of_atoms = ['H'] + permitted_list_of_atoms\n",
    "    \n",
    "    # compute atom features\n",
    "    atom_type_enc = one_hot_encoding(str(atom.GetSymbol()), permitted_list_of_atoms)\n",
    "    n_heavy_neighbors_enc = one_hot_encoding(int(atom.GetDegree()), [0, 1, 2, 3, 4, \"MoreThanFour\"])\n",
    "    formal_charge_enc = one_hot_encoding(int(atom.GetFormalCharge()), [-3, -2, -1, 0, 1, 2, 3, \"Extreme\"])\n",
    "    hybridisation_type_enc = one_hot_encoding(str(atom.GetHybridization()), [\"S\", \"SP\", \"SP2\", \"SP3\", \"SP3D\", \"SP3D2\", \"OTHER\"])\n",
    "    is_in_a_ring_enc = [int(atom.IsInRing())]\n",
    "    is_aromatic_enc = [int(atom.GetIsAromatic())]\n",
    "    atomic_mass_scaled = [float((atom.GetMass() - 10.812)/116.092)]\n",
    "    vdw_radius_scaled = [float((Chem.GetPeriodicTable().GetRvdw(atom.GetAtomicNum()) - 1.5)/0.6)]\n",
    "    covalent_radius_scaled = [float((Chem.GetPeriodicTable().GetRcovalent(atom.GetAtomicNum()) - 0.64)/0.76)]\n",
    "    \n",
    "    # concatenate \n",
    "    atom_feature_vector = atom_type_enc + n_heavy_neighbors_enc + formal_charge_enc + hybridisation_type_enc + is_in_a_ring_enc + is_aromatic_enc + atomic_mass_scaled + vdw_radius_scaled + covalent_radius_scaled\n",
    "          \n",
    "    # additional features\n",
    "    if use_chirality == True:\n",
    "        chirality_type_enc = one_hot_encoding(str(atom.GetChiralTag()), [\"CHI_UNSPECIFIED\", \"CHI_TETRAHEDRAL_CW\", \"CHI_TETRAHEDRAL_CCW\", \"CHI_OTHER\"])\n",
    "        atom_feature_vector += chirality_type_enc\n",
    "    \n",
    "    if hydrogens_implicit == True:\n",
    "        n_hydrogens_enc = one_hot_encoding(int(atom.GetTotalNumHs()), [0, 1, 2, 3, 4, \"MoreThanFour\"])\n",
    "        atom_feature_vector += n_hydrogens_enc\n",
    "\n",
    "    return np.array(atom_feature_vector)\n",
    "\n",
    "\n",
    "def get_bond_features(bond, \n",
    "                      use_stereochemistry = True):\n",
    "    \"\"\"\n",
    "    Takes an RDKit bond object as input and gives a 1d-numpy array of bond features as output.\n",
    "    \"\"\"\n",
    "\n",
    "    permitted_list_of_bond_types = [Chem.rdchem.BondType.SINGLE, Chem.rdchem.BondType.DOUBLE, Chem.rdchem.BondType.TRIPLE, Chem.rdchem.BondType.AROMATIC]\n",
    "\n",
    "    # compute features\n",
    "    bond_type_enc = one_hot_encoding(bond.GetBondType(), permitted_list_of_bond_types)\n",
    "    bond_is_conj_enc = [int(bond.GetIsConjugated())]\n",
    "    bond_is_in_ring_enc = [int(bond.IsInRing())]\n",
    "    \n",
    "    # concatenate them\n",
    "    bond_feature_vector = bond_type_enc + bond_is_conj_enc + bond_is_in_ring_enc\n",
    "    \n",
    "    if use_stereochemistry == True:\n",
    "        stereo_type_enc = one_hot_encoding(str(bond.GetStereo()), [\"STEREOZ\", \"STEREOE\", \"STEREOANY\", \"STEREONONE\"])\n",
    "        bond_feature_vector += stereo_type_enc\n",
    "\n",
    "    return np.array(bond_feature_vector)\n",
    "\n"
   ]
  },
  {
   "cell_type": "markdown",
   "metadata": {},
   "source": [
    "Get the total number of features for atoms and edges to be used for defining the models."
   ]
  },
  {
   "cell_type": "code",
   "execution_count": 23,
   "metadata": {},
   "outputs": [
    {
     "name": "stdout",
     "output_type": "stream",
     "text": [
      "Number of atom features: 79\n",
      "Number of edge features: 10\n"
     ]
    }
   ],
   "source": [
    "unrelated_smiles = \"O=O\"  # create a dummy colecule\n",
    "unrelated_mol = Chem.MolFromSmiles(unrelated_smiles)\n",
    "n_node_features = len(get_atom_features(unrelated_mol.GetAtomWithIdx(0))) # pass a dummy atom\n",
    "n_edge_features = len(get_bond_features(unrelated_mol.GetBondBetweenAtoms(0,1)))# pass a dummy bond\n",
    "\n",
    "\n",
    "print(f'Number of atom features: {n_node_features}')\n",
    "print(f'Number of edge features: {n_edge_features}')"
   ]
  },
  {
   "cell_type": "markdown",
   "metadata": {},
   "source": [
    "#### Optimized placement of atoms in the molecules from SMILES\n",
    "\n",
    "There is a possibility of optimizing the placement of atoms in the resulting molecule from SMILES representation. \n",
    "\n",
    "`UFFOptimizedMolecule` is a function in the RDKit cheminformatics library that optimizes the 3D structure of a molecule using the Universal Force Field (UFF) method.\n",
    "\n",
    "The UFF method is a widely used force field in computational chemistry that models the energy of a molecule as a function of its atomic positions. \n",
    "The method takes into account various factors such as bond stretching, bond angle bending, and torsion angles, and uses a set of empirical parameters to calculate the energy associated with each configuration of the molecule.\n",
    "The UFF method can be used to generate a low-energy 3D structure of a molecule by finding the configuration with the minimum energy."
   ]
  },
  {
   "cell_type": "code",
   "execution_count": 24,
   "metadata": {},
   "outputs": [
    {
     "data": {
      "image/png": "[encoded data removed]",
      "text/plain": [
       "<rdkit.Chem.rdchem.Mol at 0x7f7cd3e96f20>"
      ]
     },
     "execution_count": 24,
     "metadata": {},
     "output_type": "execute_result"
    }
   ],
   "source": [
    "mol = Chem.MolFromSmiles(bbbp['smiles'][0])\n",
    "mol"
   ]
  },
  {
   "cell_type": "code",
   "execution_count": 25,
   "metadata": {},
   "outputs": [
    {
     "data": {
      "image/png": "[encoded data removed]",
      "text/plain": [
       "<rdkit.Chem.rdchem.Mol at 0x7f7cd37d4820>"
      ]
     },
     "execution_count": 25,
     "metadata": {},
     "output_type": "execute_result"
    }
   ],
   "source": [
    "# Add hydrogen atoms\n",
    "mol = Chem.AddHs(mol)\n",
    "mol"
   ]
  },
  {
   "cell_type": "code",
   "execution_count": 26,
   "metadata": {},
   "outputs": [
    {
     "data": {
      "image/png": "[encoded data removed]",
      "text/plain": [
       "<rdkit.Chem.rdchem.Mol at 0x7f7cd37d4820>"
      ]
     },
     "execution_count": 26,
     "metadata": {},
     "output_type": "execute_result"
    }
   ],
   "source": [
    "# embed this molecule\n",
    "AllChem.EmbedMolecule(mol, maxAttempts=5000)\n",
    "mol"
   ]
  },
  {
   "cell_type": "code",
   "execution_count": 27,
   "metadata": {},
   "outputs": [
    {
     "data": {
      "image/png": "[encoded data removed]",
      "text/plain": [
       "<rdkit.Chem.rdchem.Mol at 0x7f7cd37d4820>"
      ]
     },
     "execution_count": 27,
     "metadata": {},
     "output_type": "execute_result"
    }
   ],
   "source": [
    "# Use UFFOptimizedMolecule for placement\n",
    "AllChem.UFFOptimizeMolecule(mol)\n",
    "mol"
   ]
  },
  {
   "cell_type": "code",
   "execution_count": 28,
   "metadata": {},
   "outputs": [
    {
     "data": {
      "image/png": "[encoded data removed]",
      "text/plain": [
       "<rdkit.Chem.rdchem.Mol at 0x7f7cd37db3c0>"
      ]
     },
     "execution_count": 28,
     "metadata": {},
     "output_type": "execute_result"
    }
   ],
   "source": [
    "# remove hydrogens\n",
    "mol = Chem.RemoveHs(mol)\n",
    "mol"
   ]
  },
  {
   "cell_type": "code",
   "execution_count": 29,
   "metadata": {},
   "outputs": [],
   "source": [
    "# define a function to do so\n",
    "def construct_mol(mol):\n",
    "    \"\"\"\n",
    "    Alters `mol` based on the optimized placement. \n",
    "    Source: https://github.com/deepchem/deepchem/blob/master/deepchem/feat/molecule_featurizers/mat_featurizer.py#L56\n",
    "    \"\"\"\n",
    "    try:\n",
    "        mol = Chem.AddHs(mol)\n",
    "        AllChem.EmbedMolecule(mol, maxAttempts=5000)\n",
    "        AllChem.UFFOptimizeMolecule(mol)\n",
    "        mol = Chem.RemoveHs(mol)\n",
    "    except ValueError:\n",
    "        AllChem.Compute2DCoords(mol)\n",
    "\n",
    "    return mol"
   ]
  },
  {
   "cell_type": "markdown",
   "metadata": {},
   "source": [
    "#### Dummy Node\n",
    "\n",
    "Maziarka et al. (2020) suggests using a dummy node for superior performance. "
   ]
  },
  {
   "cell_type": "code",
   "execution_count": 30,
   "metadata": {},
   "outputs": [],
   "source": [
    "def add_dummy_node(mat, mat_type='adj'):\n",
    "    \"\"\"\n",
    "    Adds a dummy node. See section 4.4 of Maziarka et al. (2020).\n",
    "    Args:\n",
    "        mat (torch.tensor): matrix to add a dummy node to\n",
    "        mat_type (str): type of matrix\n",
    "    \"\"\"\n",
    "    \n",
    "    n_nodes = mat.shape[0]\n",
    "    if mat_type == 'adj':\n",
    "        out = np.zeros((n_nodes + 1, n_nodes + 1))\n",
    "        out[:-1, :-1] = mat\n",
    "        return out\n",
    "    \n",
    "    if mat_type == 'dist':\n",
    "        out = np.full((n_nodes + 1, n_nodes + 1), 1e6)\n",
    "        out[:-1, :-1] = mat\n",
    "        return out \n",
    "    \n",
    "    if mat_type == 'node_features':\n",
    "        out = np.zeros((n_nodes + 1, mat.shape[1] + 1))\n",
    "        out[:-1, :-1] = mat\n",
    "        out[-1, -1] = 1  # one hot encode dummy node\n",
    "        return out\n",
    "    \n",
    "    if mat_type == 'edge_features':\n",
    "        n_edge_features = mat.shape[-1]\n",
    "        out = np.zeros((n_nodes + 1, n_nodes + 1, n_edge_features + 1))\n",
    "        out[:-1, :-1, :-1] = mat\n",
    "        out[..., -1] = -1\n",
    "        \n",
    "        return out\n",
    "        \n",
    "    "
   ]
  },
  {
   "cell_type": "markdown",
   "metadata": {},
   "source": [
    "#### Collect data\n",
    "\n",
    "Puttting all of the above together."
   ]
  },
  {
   "cell_type": "code",
   "execution_count": 31,
   "metadata": {},
   "outputs": [
    {
     "name": "stdout",
     "output_type": "stream",
     "text": [
      "# data collected: 250\n",
      "# data collected: 500\n",
      "# data collected: 750\n",
      "# data collected: 1000\n",
      "# data collected: 1250\n",
      "# data collected: 1500\n",
      "# data collected: 1750\n",
      "# data collected: 2000\n"
     ]
    },
    {
     "name": "stderr",
     "output_type": "stream",
     "text": [
      "[02:18:28] UFFTYPER: Unrecognized charge state for atom: 1\n",
      "[02:18:28] UFFTYPER: Unrecognized charge state for atom: 1\n"
     ]
    }
   ],
   "source": [
    "# Data collection adapted from https://www.blopig.com/blog/2022/02/how-to-turn-a-smiles-string-into-a-molecular-graph-for-pytorch-geometric/\n",
    "unrelated_smiles = \"O=O\"\n",
    "unrelated_mol = Chem.MolFromSmiles(unrelated_smiles)\n",
    "n_node_features = len(get_atom_features(unrelated_mol.GetAtomWithIdx(0)))\n",
    "n_edge_features = len(get_bond_features(unrelated_mol.GetBondBetweenAtoms(0,1)))\n",
    "\n",
    "USE_OPTIMIZED_PLACEMENT = True # data creation will take time (see section 3 (other details))\n",
    "USE_DUMMY_NODE = True\n",
    "\n",
    "idx, data, scaffolds = 0, [], {}\n",
    "for smiles, permeable in zip(bbbp['smiles'], bbbp['permeable']):\n",
    "    # convert SMILES to RDKit mol object\n",
    "    mol = Chem.MolFromSmiles(smiles)\n",
    "    \n",
    "    if USE_OPTIMIZED_PLACEMENT:\n",
    "        mol = construct_mol(mol)\n",
    "    \n",
    "    # get feature dimensions\n",
    "    n_nodes = mol.GetNumAtoms()\n",
    "    n_edges = 2*mol.GetNumBonds()\n",
    "\n",
    "    # construct node feature matrix X of shape (n_nodes, n_node_features)\n",
    "    X = np.zeros((n_nodes, n_node_features))\n",
    "    for atom in mol.GetAtoms():\n",
    "        X[atom.GetIdx(), :] = get_atom_features(atom)\n",
    "\n",
    "    adjacency_matrix = GetAdjacencyMatrix(mol)\n",
    "    (rows, cols) = np.nonzero(adjacency_matrix)\n",
    "    distance_matrix = GetDistanceMatrix(mol)\n",
    "    ef_matrix = np.zeros(list(adjacency_matrix.shape) + [n_edge_features])\n",
    "    for i,j in zip(rows, cols):\n",
    "        ef_matrix[i, j, :] = get_bond_features(mol.GetBondBetweenAtoms(int(i),int(j)))\n",
    "\n",
    "    if USE_DUMMY_NODE:\n",
    "        adjacency_matrix = add_dummy_node(adjacency_matrix, 'adj')\n",
    "        distance_matrix = add_dummy_node(distance_matrix, 'dist')\n",
    "        ef_matrix = add_dummy_node(ef_matrix, 'edge_features')\n",
    "        X = add_dummy_node(X, 'node_features')\n",
    "\n",
    "    # convert to torch tensor\n",
    "    X = torch.tensor(X, dtype = torch.float)\n",
    "    adjacency_matrix = torch.tensor(adjacency_matrix, dtype=torch.float)\n",
    "    distance_matrix = torch.tensor(distance_matrix, dtype=torch.float)\n",
    "    ef_matrix = torch.tensor(ef_matrix, dtype = torch.float)\n",
    "    \n",
    "    scaffold = deepchem.splits.splitters._generate_scaffold(smiles)\n",
    "    if scaffold in scaffolds:\n",
    "        scaffolds[scaffold].append(idx)\n",
    "    else:\n",
    "        scaffolds[scaffold] = [idx]\n",
    "    \n",
    "    # Note: we don't use ef_matrix as per the Appendix E of Maziarka et al. But we can experiment with other ways to use ef_matrix.\n",
    "    data.append([X, adjacency_matrix, distance_matrix, ef_matrix, permeable])\n",
    "    idx += 1\n",
    "    \n",
    "    if idx % 250 == 0:\n",
    "        print(f'# data collected: {idx}')"
   ]
  },
  {
   "cell_type": "markdown",
   "metadata": {},
   "source": [
    "#### Pad data\n",
    "\n",
    "Let's put all of the above dataset in big tensors."
   ]
  },
  {
   "cell_type": "code",
   "execution_count": 32,
   "metadata": {},
   "outputs": [],
   "source": [
    "max_nodes = max(x[0].shape[0] for x in data)\n",
    "min_nodes = min(x[0].shape[0] for x in data)"
   ]
  },
  {
   "cell_type": "code",
   "execution_count": 33,
   "metadata": {},
   "outputs": [],
   "source": [
    "# data matrices\n",
    "n_mols = bbbp['smiles'].shape[0]\n",
    "X = torch.zeros(size=[n_mols, max_nodes, n_node_features + USE_DUMMY_NODE])\n",
    "A = torch.zeros(size=[n_mols, max_nodes, max_nodes])\n",
    "D = torch.zeros(size=[n_mols, max_nodes, max_nodes])\n",
    "EF = torch.zeros(size=[n_mols, max_nodes, max_nodes, n_edge_features + USE_DUMMY_NODE])\n",
    "Y = torch.zeros(size=[n_mols])"
   ]
  },
  {
   "cell_type": "code",
   "execution_count": 34,
   "metadata": {},
   "outputs": [],
   "source": [
    "# pad sequences\n",
    "for idx, (x, a, d, ef, p) in enumerate(data):\n",
    "    n_nodes = x.shape[0]\n",
    "    X[idx, :n_nodes] = x\n",
    "    A[idx, :n_nodes, :n_nodes] = a\n",
    "    D[idx, :n_nodes, :n_nodes] = d\n",
    "    EF[idx, :n_nodes, :n_nodes, :] = ef\n",
    "    Y[idx] = p"
   ]
  },
  {
   "cell_type": "markdown",
   "metadata": {},
   "source": [
    "#### Scaffold splitting \n",
    "\n",
    "Source: [Reverie labs](https://blog.reverielabs.com/mapping-chemical-space-with-umap/)\n",
    "> A fundamental assumption behind most machine learning methods is that data are independent and identically distributed (IID). However, in drug discovery datasets, compounds are almost never sampled independently, as they are typically extracted from experiments for specific therapeutic programs. Measurements often follow the patterns of the drug development efforts that generate them. Any biases in the data-generation process can also sneak into the training and evaluation of models. In practice, this means that open source and industry datasets are often “clumpy”, consisting of measurements for compounds that are very similar to one another and non-uniformly cover chemical space.\n",
    "\n",
    "**Q**: How do we ensure that the training dataset has a diverse set of molecules for the models to generalize well?\n",
    "\n",
    "We use `scaffolds` to categorize molecules. Each molecule is classified based on their scaffold. The final dataset can be split stratified on these scaffolds. \n",
    "The idea behind scaffold splitting is to identify the core structure or scaffold of a molecule, and then to split the dataset into different groups based on the similarity of their scaffolds. \n",
    "\n",
    "The `_generate_scaffold` function in DeepChem takes a SMILES string as input and uses a series of rules to identify the scaffold of the molecule. Specifically, the function identifies the largest non-cyclic substructure in the molecule and removes all substituents from that substructure, leaving only the core scaffold. The resulting scaffold is represented as a SMILES string.\n",
    "\n"
   ]
  },
  {
   "cell_type": "code",
   "execution_count": 35,
   "metadata": {},
   "outputs": [
    {
     "data": {
      "text/plain": [
       "'c1ccc2ccccc2c1'"
      ]
     },
     "execution_count": 35,
     "metadata": {},
     "output_type": "execute_result"
    }
   ],
   "source": [
    "scaffold = deepchem.splits.splitters._generate_scaffold(bbbp['smiles'][0])\n",
    "scaffold"
   ]
  },
  {
   "cell_type": "code",
   "execution_count": 36,
   "metadata": {},
   "outputs": [],
   "source": [
    "splitter = ScaffoldSplitter()\n",
    "n_mols = bbbp['smiles'].shape[0]\n",
    "dataset = deepchem.data.NumpyDataset(X=np.arange(n_mols), ids=bbbp['smiles'])\n",
    "train, valid, test = splitter.train_valid_test_split(dataset, frac_train=0.8, frac_valid=0.1, seed=0)"
   ]
  },
  {
   "cell_type": "code",
   "execution_count": 37,
   "metadata": {},
   "outputs": [],
   "source": [
    "train_idx, valid_idx, test_idx = train.X, valid.X, test.X"
   ]
  },
  {
   "cell_type": "markdown",
   "metadata": {},
   "source": [
    "#### Dataloader\n",
    "\n",
    "Finally, we can prepare a dataloader that can be used by PyTorch."
   ]
  },
  {
   "cell_type": "code",
   "execution_count": 38,
   "metadata": {},
   "outputs": [],
   "source": [
    "# prepare a dataloader\n",
    "class Dataset(torch.utils.data.Dataset):\n",
    "    def __init__(self, X, A, D, EF, Y):\n",
    "        self._X = X\n",
    "        self._A = A\n",
    "        self._D = D\n",
    "        self._EF = EF\n",
    "        self._Y = Y\n",
    "    \n",
    "    def __len__(self):\n",
    "        return self._X.shape[0]\n",
    "\n",
    "    def __getitem__(self, index):\n",
    "        return self._X[index], self._A[index], self._D[index], self._EF[index], self._Y[index]\n",
    "\n",
    "dataset = Dataset(X, A, D, EF, Y)    \n",
    "\n",
    "class Subdataset(torch.utils.data.Dataset):\n",
    "    def __init__(self, dataset, idxs):\n",
    "        self._data = dataset\n",
    "        self._idxs = idxs\n",
    "        \n",
    "    def __len__(self):\n",
    "        return len(self._idxs)\n",
    "    \n",
    "    def __getitem__(self, index):\n",
    "        return self._data[self._idxs[index]]\n",
    "\n",
    "train_data = torch.utils.data.DataLoader(Subdataset(dataset, train_idx), batch_size=2, num_workers=2)"
   ]
  },
  {
   "cell_type": "markdown",
   "metadata": {
    "id": "XPoek7ZoZTPk"
   },
   "source": [
    "# 3. Model definition\n",
    "\n",
    "We will implement the Molecule Attention Transformer as proposed by Maziarka et al. (2020).\n",
    "\n",
    "<img src=\"MAT.png\">\n"
   ]
  },
  {
   "cell_type": "markdown",
   "metadata": {},
   "source": [
    "Remember attention computes the scores based on keys and queries\n",
    "    \n",
    "$$A = \\text{Softmax}(\\frac{QK^T}{\\sqrt{d}})$$\n",
    "\n",
    "MAT modulates these scores through the addition of scores computed using adjacency and distance matrix.\n",
    "    \n",
    "$$A^{'} = \\lambda_a \\text{Softmax}(\\frac{QK^T}{\\sqrt{d}}) + \\lambda_g \\mathbf{A} + \\lambda_d g(\\mathbf{D})$$\n",
    "\n",
    "Here, both keys and queries are going to be derived from the atomic features (self-attention), $g(\\mathbf{D})$ is a distance kernel function to modify distance matrix, $\\lambda_g$, $\\lambda_a$ and $\\lambda_d$ are tthe hyperparameters.\n",
    "\n",
    "To do this, we need the following classes\n",
    "\n",
    "    1. MoudlatedMultiHeadAttention (MMHA): To implement attention scheme discussed above\n",
    "    2. EncoderLayer: This layer implements the block in which MMHA lies. It also carries out operations surrounding it.\n",
    "    3. MAT: The class to carry out all other operations, e.g., embedding, global pooling, and prediction. \n"
   ]
  },
  {
   "cell_type": "code",
   "execution_count": 39,
   "metadata": {},
   "outputs": [],
   "source": [
    "class ModulatedMultiHeadAttention(nn.Module):\n",
    "    def __init__(self, n_heads, d_model, lambda_a, lambda_g, lambda_d, dist_kernel_fn, dropout=0.0): \n",
    "        \"\"\"\n",
    "        Implementation of attention as explained in Eq. 2 of Maziarka et al. 2020.\n",
    "        \n",
    "        \"\"\"\n",
    "        super().__init__()\n",
    "        \n",
    "        self.lambda_a, self.lambda_g, self.lambda_d = lambda_a, lambda_g, lambda_d\n",
    "        self.dist_kernel_fn = dist_kernel_fn\n",
    "        \n",
    "        self.n_heads = n_heads\n",
    "        self.d_model = d_model     \n",
    "        self.d_head = d_model // n_heads\n",
    "        \n",
    "        self.Q = nn.Linear(d_model, d_model)\n",
    "        self.K = nn.Linear(d_model, d_model)\n",
    "        self.V = nn.Linear(d_model, d_model)\n",
    "        self.dropout = nn.Dropout(dropout)\n",
    "            \n",
    "        \n",
    "    def forward(self, q, k, v, adjacency_mat=None, distance_mat=None, mask=None):\n",
    "        \"\"\"\n",
    "        modulations (list(torch.tensor)): list of square tensors to modulate the attention weights with. \n",
    "        \"\"\"\n",
    "        lambda_a = self.lambda_a\n",
    "        lambda_g = self.lambda_g\n",
    "        lambda_d = self.lambda_d\n",
    "\n",
    "        batch_size = q.shape[0]\n",
    "        \n",
    "        # break the output such that the last two dimensions are heads x d_head\n",
    "        Q = self.Q(q).view(batch_size, -1, self.n_heads, self.d_head)\n",
    "        K = self.K(k).view(batch_size, -1, self.n_heads, self.d_head)\n",
    "        V = self.V(v).view(batch_size, -1, self.n_heads, self.d_head)\n",
    "        \n",
    "        # take transpose so that last two dimensions are max_length x d_head\n",
    "        Q = Q.transpose(1, 2)\n",
    "        K = K.transpose(1, 2)\n",
    "        V = V.transpose(1, 2)\n",
    "        \n",
    "        # bs x n_heads x max_length x max_length\n",
    "        scores = torch.matmul(Q, K.transpose(-2, -1)) / np.sqrt(self.d_head)\n",
    "\n",
    "        if mask is not None:\n",
    "            scores = scores.masked_fill(mask==0, -1e9)\n",
    "            \n",
    "            if adjacency_mat is not None:\n",
    "                adjacency_mat = adjacency_mat.masked_fill(mask==0, 0.0)\n",
    "            \n",
    "            if distance_mat is not None:\n",
    "                distance_mat = self._mask_distance_matrix(distance_mat, mask)\n",
    "\n",
    "        attn = scores.softmax(dim=-1) * lambda_a\n",
    "        \n",
    "        if adjacency_mat is not None:\n",
    "            attn = attn + lambda_g * adjacency_mat[:, None, :, :]\n",
    "        \n",
    "        if distance_mat is not None:\n",
    "            dist_mat = self._normalize_distance_mat(distance_mat)\n",
    "            attn = attn + lambda_d * dist_mat[:, None, :, :]\n",
    "\n",
    "        attn = self.dropout(attn)\n",
    "        output = torch.matmul(attn, V)\n",
    "        \n",
    "        # transpose back to get batch_size x max_length x d_model\n",
    "        # use contiguous to reset the ordering of elements (i.e. stride and offset): https://stackoverflow.com/a/52229694/3413239\n",
    "        output = output.transpose(1, 2).contiguous().view(batch_size, -1, self.d_model)\n",
    "        \n",
    "        return output\n",
    "\n",
    "    def _mask_distance_matrix(self, mat, mask):\n",
    "        if self.dist_kernel_fn == 'exp':\n",
    "            mask_value = 1e9\n",
    "        \n",
    "        elif self.dist_kernel_fn == 'softmax':\n",
    "            mask_value = -1e9\n",
    "        \n",
    "        else:\n",
    "            raise ValueError(f'Unrecognized dist_kernel_fn:{self.dist_kernel_fn}')\n",
    "        \n",
    "        return mat.masked_fill(mask==0, mask_value)\n",
    "    \n",
    "    def _normalize_distance_mat(self, mat):\n",
    "        if self.dist_kernel_fn == 'exp':\n",
    "            return torch.exp(-mat)\n",
    "        \n",
    "        if self.dist_kernel_fn == 'softmax':\n",
    "            return torch.softmax(mat, dim=-1)\n",
    "        \n",
    "        raise ValueError(f'Unrecognized dist_kernel_fn:{self.dist_kernel_fn}')"
   ]
  },
  {
   "cell_type": "code",
   "execution_count": 40,
   "metadata": {},
   "outputs": [
    {
     "name": "stdout",
     "output_type": "stream",
     "text": [
      "tensor([[[-0.0139, -0.1072, -0.0572,  0.1278, -0.0984, -0.0491],\n",
      "         [-0.0198,  0.0922, -0.1367,  0.0219, -0.1683, -0.0546],\n",
      "         [ 0.0242,  0.1045, -0.1627, -0.0070, -0.2203, -0.0531],\n",
      "         [-0.0992,  0.1846, -0.1066,  0.2520, -0.1157, -0.1003],\n",
      "         [ 0.0649, -0.0450, -0.0753, -0.1332, -0.1020,  0.0087]],\n",
      "\n",
      "        [[ 0.1440,  0.0198, -0.5124, -0.1653, -0.3818, -0.2029],\n",
      "         [ 0.2019,  0.0008, -0.3956, -0.2208, -0.2558, -0.2931],\n",
      "         [ 0.0978,  0.0077, -0.3080, -0.2811, -0.0982, -0.2294],\n",
      "         [ 0.1752, -0.0483,  0.2398,  0.1153, -0.3855,  0.2745],\n",
      "         [ 0.0953, -0.0238,  0.1622,  0.0765, -0.2265,  0.1734]]],\n",
      "       grad_fn=<ViewBackward0>)\n"
     ]
    }
   ],
   "source": [
    "# example call\n",
    "mha = ModulatedMultiHeadAttention(2, 6, 0.1, 0.1, 0.1, 'exp', 0.0)\n",
    "\n",
    "B = 2\n",
    "N = 5\n",
    "dim = 6\n",
    "Q = torch.randn((B, N, dim)) #  batches,  max length, dimensions\n",
    "K = torch.randn((B, N, dim)) \n",
    "V = torch.randn((B, N, dim)) \n",
    "mask = torch.triu(torch.ones((B, N, N)))\n",
    "adj = torch.randn(B, N, N)\n",
    "dist = torch.randn(B, N, N)\n",
    "\n",
    "A = mha(Q, K, V, adj, dist, mask)\n",
    "print(A)\n"
   ]
  },
  {
   "cell_type": "code",
   "execution_count": 41,
   "metadata": {},
   "outputs": [],
   "source": [
    "class EncoderLayer(nn.Module):\n",
    "    def __init__(self, d_model, n_heads, lambda_a, lambda_g, lambda_d, dist_kernel_fn='exp', dropout=0.0, d_ff=None):\n",
    "        \n",
    "        super().__init__()\n",
    "                \n",
    "        # mha\n",
    "        self.mmha = ModulatedMultiHeadAttention(n_heads, d_model, lambda_a, lambda_g, lambda_d, dist_kernel_fn, dropout)\n",
    "        self.prenorm = nn.LayerNorm(d_model)\n",
    "\n",
    "        if d_ff is None:\n",
    "            d_ff = d_model\n",
    "\n",
    "        # feed forward (K=2)\n",
    "        self.ff = nn.Sequential(\n",
    "            nn.Linear(d_model, d_ff),\n",
    "            nn.ReLU(),\n",
    "            nn.Dropout(dropout),\n",
    "            nn.Linear(d_ff, d_model)\n",
    "        )\n",
    "        self.postnorm = nn.LayerNorm(d_model)\n",
    "        \n",
    "        # dropout regularization\n",
    "        self.dropout = nn.Dropout(dropout)\n",
    "        \n",
    "    def forward(self, x, A, D, mask):\n",
    "        x = self.prenorm(x)\n",
    "        z = self.mmha(x, x, x, A, D, mask) # mha\n",
    "        z = self.dropout(z) # refer to the section 5.4 of Vaswani et al.\n",
    "        \n",
    "        x = self.postnorm(x + z) # add & norm\n",
    "        z = self.ff(x) # feed forward\n",
    "        z = self.dropout(z) # refer to the section 5.4 of Vaswani et al. \n",
    "        x = x + z # add \n",
    "        return x"
   ]
  },
  {
   "cell_type": "code",
   "execution_count": 42,
   "metadata": {},
   "outputs": [
    {
     "data": {
      "text/plain": [
       "tensor([[[ 1.9623, -0.1059, -0.2459, -1.1328,  0.5533, -0.9389],\n",
       "         [ 1.9075, -0.9382, -1.1500, -1.0456,  0.2034,  1.2769],\n",
       "         [ 0.7500,  0.3872, -1.0984,  0.5785, -0.8360,  1.3522],\n",
       "         [ 0.0993,  1.1316, -0.3916,  0.7739, -1.0672,  1.1093],\n",
       "         [ 0.6053,  0.8138, -1.2374, -0.0412,  0.5900, -1.1871]],\n",
       "\n",
       "        [[ 0.7300, -0.9127, -0.5091, -1.0292,  2.0399, -0.1645],\n",
       "         [-0.1580,  1.2041, -0.8242, -0.6149,  1.0886, -1.1003],\n",
       "         [-0.3226,  1.2870, -1.5820, -0.7606,  0.7038,  0.9752],\n",
       "         [-1.0779,  0.5834,  0.6607, -1.5353,  1.2529,  0.3001],\n",
       "         [ 0.6433,  1.3060,  0.5312, -1.7892, -0.4733,  0.0076]]],\n",
       "       grad_fn=<AddBackward0>)"
      ]
     },
     "execution_count": 42,
     "metadata": {},
     "output_type": "execute_result"
    }
   ],
   "source": [
    "# example call \n",
    "B = 2\n",
    "N = 5\n",
    "dim = 6\n",
    "\n",
    "enc = EncoderLayer(dim, 2, 0.1, 0.1, 0.1)\n",
    "x = torch.randn((B, N, dim)) #  batches,  max length, dimension\n",
    "mask = torch.triu(torch.ones((B, N, N)))\n",
    "A = torch.randn(B, N, N)\n",
    "D = torch.randn(B, N, N)\n",
    "enc(x, mask, A, D)"
   ]
  },
  {
   "cell_type": "code",
   "execution_count": 43,
   "metadata": {},
   "outputs": [],
   "source": [
    "class MAT(nn.Module):\n",
    "    def __init__(self, input_dim, hidden_dim, output_dim, depth, \n",
    "        n_heads = 8,\n",
    "        lambda_g = 0.5,\n",
    "        lambda_d = 0.5,\n",
    "        lambda_a = 1,\n",
    "        dropout = 0.0,\n",
    "        dist_kernel_fn = 'exp'):\n",
    "\n",
    "        super().__init__()\n",
    "        \n",
    "        self.hidden_dim = hidden_dim\n",
    "        self.output_dim = output_dim\n",
    "        self.depth = depth\n",
    "        \n",
    "        self.input_repr_fn = nn.Linear(input_dim, hidden_dim)\n",
    "        self.layers = nn.ModuleList([])\n",
    "\n",
    "        for _ in range(depth):\n",
    "            self.layers.append(EncoderLayer(hidden_dim, n_heads, lambda_a, lambda_g, lambda_d, dist_kernel_fn, dropout))\n",
    "\n",
    "        self.postnorm = nn.LayerNorm(hidden_dim)\n",
    "        self.ff_out = nn.Linear(hidden_dim, output_dim)\n",
    "        \n",
    "    def forward(self, x, adjacency_mat = None, distance_mat = None, mask = None):\n",
    "        x = self.input_repr_fn(x)  # embedding\n",
    "        for enc in self.layers:\n",
    "            x = enc(x, adjacency_mat, distance_mat, mask)\n",
    "        x = self.postnorm(x)\n",
    "        x = x.mean(dim=-2) # global pooling\n",
    "        return self.ff_out(x).squeeze()"
   ]
  },
  {
   "cell_type": "code",
   "execution_count": 44,
   "metadata": {},
   "outputs": [
    {
     "data": {
      "text/plain": [
       "tensor([1.2089, 1.2262], grad_fn=<SqueezeBackward0>)"
      ]
     },
     "execution_count": 44,
     "metadata": {},
     "output_type": "execute_result"
    }
   ],
   "source": [
    "# example call\n",
    "in_dim = 2\n",
    "hidden_dim=4\n",
    "out_dim=1\n",
    "depth=2\n",
    "heads=2\n",
    "mat = MAT(in_dim, hidden_dim, out_dim, depth, heads)\n",
    "\n",
    "B = 2\n",
    "N = 5\n",
    "\n",
    "x = torch.randn((B, N, in_dim))\n",
    "mask = torch.triu(torch.ones((B, N, N)))\n",
    "A = torch.randn(B, N, N)\n",
    "D = torch.randn(B, N, N)\n",
    "\n",
    "mat(x)"
   ]
  },
  {
   "cell_type": "markdown",
   "metadata": {
    "id": "Ati-7Wz8Zm8T"
   },
   "source": [
    "# 4. Training"
   ]
  },
  {
   "cell_type": "markdown",
   "metadata": {},
   "source": [
    "#### Base functions for training"
   ]
  },
  {
   "cell_type": "code",
   "execution_count": 45,
   "metadata": {},
   "outputs": [],
   "source": [
    "def process(model, data, optimizer = None):\n",
    "    \"\"\"\n",
    "    Computes loss over `data`. Performs backpropagation if optimizer is not None.\n",
    "    \"\"\"\n",
    "    n_samples = 0\n",
    "    running_loss = 0\n",
    "    y_pred, y_true = [], []\n",
    "    for batch in data:\n",
    "        x, A, D, EF, Y = [z.to(device) for z in batch]\n",
    "        n_samples += x.shape[0]\n",
    "        \n",
    "        # forward pass \n",
    "        outputs = model(x, A, D)\n",
    "        loss = nn.BCEWithLogitsLoss()(outputs, Y)\n",
    "        \n",
    "        if optimizer is not None:\n",
    "            optimizer.zero_grad()\n",
    "            loss.backward()\n",
    "            optimizer.step()\n",
    "            \n",
    "        y_pred += outputs.softmax(dim=-1).detach().cpu().numpy().tolist()\n",
    "        y_true += Y.detach().cpu().numpy().tolist()\n",
    "        \n",
    "        running_loss += loss.item()\n",
    "    \n",
    "    return running_loss / n_samples, roc_auc_score(y_true = y_true, y_score= y_pred)\n",
    "\n",
    "\n",
    "def get_model_name(model, augment_name = None):\n",
    "    model_name = f\"best_{model.__class__.__name__}_hidden_{model.hidden_dim}_depth_{model.depth}\"\n",
    "    model_name += f\"_{augment_name}\" if augment_name else \"\"\n",
    "    return model_name + '.ckpt'"
   ]
  },
  {
   "cell_type": "markdown",
   "metadata": {},
   "source": [
    "#### Optimizer with learning rate scheduler"
   ]
  },
  {
   "cell_type": "code",
   "execution_count": 46,
   "metadata": {},
   "outputs": [],
   "source": [
    "# Example from https://nlp.seas.harvard.edu/2018/04/03/attention.html\n",
    "# Parameters from Appendix B of Maziarka et al.\n",
    "class WarmupOpt:\n",
    "    def __init__(self, optimizer, lr, d_model, warmup_steps):\n",
    "        \n",
    "        self.optimizer = optimizer\n",
    "        self.d_model = d_model\n",
    "        self.ws = warmup_steps\n",
    "        self.optimizer_factor = 100 * lr\n",
    "        \n",
    "        self.t = 0\n",
    "        self._rate = 0\n",
    "        \n",
    "    def step(self):\n",
    "        \"\"\"\n",
    "        the call to optimizer.step comes here first\n",
    "        \"\"\"\n",
    "        self.t += 1\n",
    "        rate = self.rate()\n",
    "        for p in self.optimizer.param_groups:\n",
    "            p['lr'] = rate\n",
    "        self._rate = rate\n",
    "        self.optimizer.step()\n",
    "        \n",
    "    def rate(self, step=None):\n",
    "        if step is None:\n",
    "            step = self.t\n",
    "\n",
    "        return self.optimizer_factor * self.d_model**(-0.5) * min(step**(-0.5), step * self.ws**(-0.5))\n",
    "    \n",
    "    def zero_grad(self):\n",
    "        self.optimizer.zero_grad()\n",
    "\n",
    "lr = 0.0005\n",
    "optimizer = torch.optim.Adam(mat.parameters(), lr=lr, betas=(0.9, 0.98), eps=1e-9)\n",
    "optimizer = WarmupOpt(optimizer, lr, d_model=12, warmup_steps=4000)"
   ]
  },
  {
   "cell_type": "code",
   "execution_count": 47,
   "metadata": {},
   "outputs": [],
   "source": [
    "def train(model, train_idxs, valid_idxs, batch_size=32, augment_name=None):\n",
    "    \"\"\"\n",
    "    Trains model on the dataset defined by train_idxs and valid_idxs\n",
    "    \n",
    "    Args:\n",
    "        model (nn.Module): model to be trained\n",
    "        train_idxs (list): list of indices to define the train dataset\n",
    "        valid_idxs (list): list of indices to define the valid dataset\n",
    "        augment_name (Optional[str]): string to append to the name of the best model's checkpoint\n",
    "    \"\"\"\n",
    "    \n",
    "    n_epochs = 100\n",
    "        \n",
    "    # save the best model in this directory\n",
    "    model_dir = pathlib.Path('./models').resolve()\n",
    "    if not model_dir.exists():\n",
    "        model_dir.mkdir()\n",
    "    \n",
    "    # get the model name\n",
    "    model_name = get_model_name(model, augment_name)\n",
    "    \n",
    "    # \n",
    "    model = model.to(device)\n",
    "    \n",
    "    # for parameters refer to Appendix B of Maziarka et al. \n",
    "    lr = 0.0005\n",
    "    optimizer = torch.optim.Adam(model.parameters(), lr=lr) \n",
    "    optimizer = WarmupOpt(optimizer, lr, d_model=model.hidden_dim, warmup_steps=4000)\n",
    "\n",
    "    \n",
    "    val_data = torch.utils.data.DataLoader(Subdataset(dataset, valid_idxs), batch_size=128, num_workers=2)\n",
    "\n",
    "    best_val_roc = -1\n",
    "    train_losses, val_losses = [], []\n",
    "    train_rocs, val_rocs = [], []\n",
    "    for epoch in range(n_epochs):\n",
    "        print(f'@epoch {epoch}', end='')\n",
    "\n",
    "        # training loss\n",
    "        train_idxs = train_idxs[np.random.permutation(len(train_idxs))]\n",
    "        train_data = torch.utils.data.DataLoader(Subdataset(dataset, train_idxs), batch_size=batch_size, num_workers=2)\n",
    "        train_loss, train_roc = process(model, train_data, optimizer)\n",
    "\n",
    "        # validation loss\n",
    "        with torch.no_grad():\n",
    "            val_loss, val_roc = process(model, val_data)\n",
    "\n",
    "        if val_roc > best_val_roc:\n",
    "            best_val_roc = val_roc\n",
    "            torch.save(model.state_dict(), model_dir / model_name)\n",
    "            no_improvement_cnt = 0\n",
    "        else:\n",
    "            no_improvement_cnt += 1\n",
    "\n",
    "            if no_improvement_cnt % 25 == 0:\n",
    "                print('\\nEarly stopping!')\n",
    "                break\n",
    "\n",
    "        train_losses.append(train_loss)\n",
    "        val_losses.append(val_loss)\n",
    "        train_rocs.append(train_roc)\n",
    "        val_rocs.append(val_roc)\n",
    "        print(f'\\ttrain_loss: {train_loss: 2.6f} val_loss: {val_loss: 2.6f} train_roc: {train_roc :0.4f} val_roc: {val_roc: 0.4f}')\n",
    "\n",
    "    print(f'best val roc: {best_val_roc: 2.6f}')\n",
    "\n",
    "    # load the best model \n",
    "    model.load_state_dict(torch.load(model_dir / model_name))\n",
    "    model = model.to(device)\n",
    "\n",
    "    metrics = {\n",
    "        'train_losses': train_losses,\n",
    "        'val_losses': val_losses,\n",
    "        'train_rocs': train_rocs,\n",
    "        'val_rocs': val_rocs\n",
    "    }\n",
    "\n",
    "    return model, metrics"
   ]
  },
  {
   "cell_type": "markdown",
   "metadata": {},
   "source": [
    "#### Functions to print model stats"
   ]
  },
  {
   "cell_type": "code",
   "execution_count": 48,
   "metadata": {},
   "outputs": [],
   "source": [
    "# functions to print model summaries\n",
    "def mem_size(model):\n",
    "    \"\"\"\n",
    "    Get model size in GB (as str: \"N GB\")\n",
    "    \"\"\"\n",
    "    mem_params = sum(\n",
    "        [param.nelement() * param.element_size() for param in model.parameters()]\n",
    "    )\n",
    "    mem_bufs = sum([buf.nelement() * buf.element_size() for buf in model.buffers()])\n",
    "    mem = mem_params + mem_bufs\n",
    "    return f\"{mem / 1e9:.4f} GB\"\n",
    "\n",
    "def num_params(model):\n",
    "    \"\"\"\n",
    "    Print number of parameters in model's named children\n",
    "    and total\n",
    "    \"\"\"\n",
    "    s = \"Number of parameters:\\n\"\n",
    "    n_params = 0\n",
    "    for name, child in model.named_children():\n",
    "        n = sum(p.numel() for p in child.parameters())\n",
    "        s += f\"  • {name:<15}: {n}\\n\"\n",
    "        n_params += n\n",
    "    s += f\"{'total':<19}: {n_params}\"\n",
    "\n",
    "    return s\n",
    "\n",
    "def pp_model_summary(model):\n",
    "    print(num_params(model))\n",
    "    print(f\"{'Total memory':<18} : {mem_size(model)}\")"
   ]
  },
  {
   "cell_type": "code",
   "execution_count": 49,
   "metadata": {},
   "outputs": [
    {
     "name": "stdout",
     "output_type": "stream",
     "text": [
      "Number of parameters:\n",
      "  • input_repr_fn  : 10368\n",
      "  • layers         : 664576\n",
      "  • postnorm       : 256\n",
      "  • ff_out         : 129\n",
      "total              : 675329\n",
      "Total memory       : 0.0027 GB\n",
      "@epoch 0\ttrain_loss:  0.015403 val_loss:  0.008843 train_roc: 0.5254 val_roc:  0.0688\n",
      "@epoch 1\ttrain_loss:  0.014800 val_loss:  0.009927 train_roc: 0.5771 val_roc:  0.1013\n",
      "@epoch 2\ttrain_loss:  0.014793 val_loss:  0.010512 train_roc: 0.6406 val_roc:  0.1043\n",
      "@epoch 3\ttrain_loss:  0.014904 val_loss:  0.010380 train_roc: 0.6504 val_roc:  0.1048\n",
      "@epoch 4\ttrain_loss:  0.014777 val_loss:  0.011106 train_roc: 0.6584 val_roc:  0.1060\n",
      "@epoch 5\ttrain_loss:  0.014761 val_loss:  0.010204 train_roc: 0.6571 val_roc:  0.1058\n",
      "@epoch 6\ttrain_loss:  0.014813 val_loss:  0.010562 train_roc: 0.6626 val_roc:  0.1056\n",
      "@epoch 7\ttrain_loss:  0.014746 val_loss:  0.010154 train_roc: 0.6564 val_roc:  0.1056\n",
      "@epoch 8\ttrain_loss:  0.014785 val_loss:  0.010842 train_roc: 0.6385 val_roc:  0.1060\n",
      "@epoch 9\ttrain_loss:  0.014769 val_loss:  0.010507 train_roc: 0.6682 val_roc:  0.1165\n",
      "@epoch 10\ttrain_loss:  0.014770 val_loss:  0.009768 train_roc: 0.6591 val_roc:  0.1052\n",
      "@epoch 11\ttrain_loss:  0.014747 val_loss:  0.011340 train_roc: 0.6745 val_roc:  0.1172\n",
      "@epoch 12\ttrain_loss:  0.014771 val_loss:  0.009486 train_roc: 0.6718 val_roc:  0.1178\n",
      "@epoch 13\ttrain_loss:  0.014782 val_loss:  0.010079 train_roc: 0.6718 val_roc:  0.1186\n",
      "@epoch 14\ttrain_loss:  0.014757 val_loss:  0.009582 train_roc: 0.6778 val_roc:  0.1195\n",
      "@epoch 15\ttrain_loss:  0.014680 val_loss:  0.010653 train_roc: 0.6669 val_roc:  0.1228\n",
      "@epoch 16\ttrain_loss:  0.014765 val_loss:  0.010979 train_roc: 0.6950 val_roc:  0.1226\n",
      "@epoch 17\ttrain_loss:  0.014751 val_loss:  0.009756 train_roc: 0.7026 val_roc:  0.1234\n",
      "@epoch 18\ttrain_loss:  0.014729 val_loss:  0.010065 train_roc: 0.7041 val_roc:  0.1231\n",
      "@epoch 19\ttrain_loss:  0.014726 val_loss:  0.009358 train_roc: 0.6964 val_roc:  0.1235\n",
      "@epoch 20\ttrain_loss:  0.014805 val_loss:  0.010169 train_roc: 0.7009 val_roc:  0.1236\n",
      "@epoch 21\ttrain_loss:  0.014760 val_loss:  0.010144 train_roc: 0.6934 val_roc:  0.1234\n",
      "@epoch 22\ttrain_loss:  0.014720 val_loss:  0.009586 train_roc: 0.6900 val_roc:  0.1238\n",
      "@epoch 23\ttrain_loss:  0.014555 val_loss:  0.008965 train_roc: 0.6881 val_roc:  0.1678\n",
      "@epoch 24\ttrain_loss:  0.013633 val_loss:  0.008018 train_roc: 0.7180 val_roc:  0.4864\n",
      "@epoch 25\ttrain_loss:  0.013933 val_loss:  0.005024 train_roc: 0.7325 val_roc:  0.6277\n",
      "@epoch 26\ttrain_loss:  0.012234 val_loss:  0.003117 train_roc: 0.7701 val_roc:  0.6933\n",
      "@epoch 27\ttrain_loss:  0.011140 val_loss:  0.002743 train_roc: 0.8147 val_roc:  0.8169\n",
      "@epoch 28\ttrain_loss:  0.010623 val_loss:  0.002449 train_roc: 0.8334 val_roc:  0.8610\n",
      "@epoch 29\ttrain_loss:  0.011524 val_loss:  0.002714 train_roc: 0.8258 val_roc:  0.8073\n",
      "@epoch 30\ttrain_loss:  0.011110 val_loss:  0.004714 train_roc: 0.8422 val_roc:  0.7153\n",
      "@epoch 31\ttrain_loss:  0.010120 val_loss:  0.002940 train_roc: 0.8453 val_roc:  0.8182\n",
      "@epoch 32\ttrain_loss:  0.009805 val_loss:  0.003453 train_roc: 0.8510 val_roc:  0.7949\n",
      "@epoch 33\ttrain_loss:  0.009878 val_loss:  0.002583 train_roc: 0.8540 val_roc:  0.8406\n",
      "@epoch 34\ttrain_loss:  0.009533 val_loss:  0.002668 train_roc: 0.8558 val_roc:  0.8469\n",
      "@epoch 35\ttrain_loss:  0.009603 val_loss:  0.002575 train_roc: 0.8571 val_roc:  0.8417\n",
      "@epoch 36\ttrain_loss:  0.009539 val_loss:  0.002650 train_roc: 0.8590 val_roc:  0.8384\n",
      "@epoch 37\ttrain_loss:  0.009503 val_loss:  0.002553 train_roc: 0.8567 val_roc:  0.8504\n",
      "@epoch 38\ttrain_loss:  0.009535 val_loss:  0.002740 train_roc: 0.8630 val_roc:  0.8463\n",
      "@epoch 39\ttrain_loss:  0.009555 val_loss:  0.002396 train_roc: 0.8617 val_roc:  0.8728\n",
      "@epoch 40\ttrain_loss:  0.009559 val_loss:  0.002555 train_roc: 0.8625 val_roc:  0.8503\n",
      "@epoch 41\ttrain_loss:  0.009422 val_loss:  0.002637 train_roc: 0.8617 val_roc:  0.8267\n",
      "@epoch 42\ttrain_loss:  0.009296 val_loss:  0.002795 train_roc: 0.8669 val_roc:  0.8726\n",
      "@epoch 43\ttrain_loss:  0.009121 val_loss:  0.002930 train_roc: 0.8715 val_roc:  0.8248\n",
      "@epoch 44\ttrain_loss:  0.009277 val_loss:  0.002469 train_roc: 0.8686 val_roc:  0.8554\n",
      "@epoch 45\ttrain_loss:  0.009190 val_loss:  0.002711 train_roc: 0.8692 val_roc:  0.8588\n",
      "@epoch 46\ttrain_loss:  0.009337 val_loss:  0.002647 train_roc: 0.8752 val_roc:  0.8730\n",
      "@epoch 47\ttrain_loss:  0.009222 val_loss:  0.002630 train_roc: 0.8747 val_roc:  0.8495\n",
      "@epoch 48\ttrain_loss:  0.009140 val_loss:  0.002598 train_roc: 0.8742 val_roc:  0.8669\n",
      "@epoch 49\ttrain_loss:  0.009248 val_loss:  0.002553 train_roc: 0.8775 val_roc:  0.8414\n",
      "@epoch 50\ttrain_loss:  0.009304 val_loss:  0.002983 train_roc: 0.8773 val_roc:  0.8091\n",
      "@epoch 51\ttrain_loss:  0.009025 val_loss:  0.002448 train_roc: 0.8809 val_roc:  0.8344\n",
      "@epoch 52\ttrain_loss:  0.009297 val_loss:  0.003694 train_roc: 0.8765 val_roc:  0.8102\n",
      "@epoch 53\ttrain_loss:  0.009289 val_loss:  0.002467 train_roc: 0.8807 val_roc:  0.8522\n",
      "@epoch 54\ttrain_loss:  0.009440 val_loss:  0.002669 train_roc: 0.8730 val_roc:  0.8465\n",
      "@epoch 55\ttrain_loss:  0.008977 val_loss:  0.002533 train_roc: 0.8841 val_roc:  0.8341\n",
      "@epoch 56\ttrain_loss:  0.008873 val_loss:  0.002511 train_roc: 0.8842 val_roc:  0.8460\n",
      "@epoch 57\ttrain_loss:  0.009585 val_loss:  0.003076 train_roc: 0.8722 val_roc:  0.8372\n",
      "@epoch 58\ttrain_loss:  0.009007 val_loss:  0.002434 train_roc: 0.8800 val_roc:  0.8375\n",
      "@epoch 59\ttrain_loss:  0.008973 val_loss:  0.002545 train_roc: 0.8758 val_roc:  0.8476\n",
      "@epoch 60\ttrain_loss:  0.009132 val_loss:  0.002523 train_roc: 0.8792 val_roc:  0.8367\n",
      "@epoch 61\ttrain_loss:  0.008970 val_loss:  0.002710 train_roc: 0.8834 val_roc:  0.8459\n",
      "@epoch 62\ttrain_loss:  0.008852 val_loss:  0.002599 train_roc: 0.8798 val_roc:  0.8267\n",
      "@epoch 63\ttrain_loss:  0.009213 val_loss:  0.003111 train_roc: 0.8755 val_roc:  0.8061\n",
      "@epoch 64\ttrain_loss:  0.008923 val_loss:  0.002798 train_roc: 0.8833 val_roc:  0.8478\n",
      "@epoch 65\ttrain_loss:  0.008735 val_loss:  0.002548 train_roc: 0.8826 val_roc:  0.8362\n",
      "@epoch 66\ttrain_loss:  0.008779 val_loss:  0.002496 train_roc: 0.8839 val_roc:  0.8306\n",
      "@epoch 67\ttrain_loss:  0.008689 val_loss:  0.002559 train_roc: 0.8868 val_roc:  0.8457\n",
      "@epoch 68\ttrain_loss:  0.008619 val_loss:  0.002539 train_roc: 0.8892 val_roc:  0.8260\n",
      "@epoch 69\ttrain_loss:  0.008988 val_loss:  0.002398 train_roc: 0.8817 val_roc:  0.8301\n",
      "@epoch 70\ttrain_loss:  0.009524 val_loss:  0.002679 train_roc: 0.8761 val_roc:  0.8239\n",
      "@epoch 71\n",
      "Early stopping!\n",
      "best val roc:  0.872985\n"
     ]
    }
   ],
   "source": [
    "input_dim = n_node_features + USE_DUMMY_NODE\n",
    "hidden_dim = 128\n",
    "depth = 8\n",
    "n_heads = 16\n",
    "output_dim = 1\n",
    "USE_EDGE_CONV = False\n",
    "\n",
    "model = MAT(input_dim, hidden_dim, output_dim, depth)\n",
    "pp_model_summary(model)\n",
    "\n",
    "model, metrics = train(model, train_idx, valid_idx) # returns the best model"
   ]
  },
  {
   "cell_type": "code",
   "execution_count": 50,
   "metadata": {},
   "outputs": [
    {
     "data": {
      "text/plain": [
       "(<Figure size 1000x500 with 2 Axes>,\n",
       " <AxesSubplot:xlabel='Epochs', ylabel='loss'>)"
      ]
     },
     "execution_count": 50,
     "metadata": {},
     "output_type": "execute_result"
    },
    {
     "data": {
      "image/png": "[encoded data removed]",
      "text/plain": [
       "<Figure size 1000x500 with 2 Axes>"
      ]
     },
     "metadata": {
      "needs_background": "light"
     },
     "output_type": "display_data"
    }
   ],
   "source": [
    "def plot_metrics(metrics, title=\"\"):\n",
    "    fig, axs = plt.subplots(nrows=1, ncols=1, figsize=(10,5), dpi=100)\n",
    "\n",
    "    axs.plot(metrics['train_losses'], color=\"#BDD9BF\", marker=\"o\", label=\"Train loss\", linestyle=\":\", linewidth=2)\n",
    "    axs.plot(metrics['val_losses'], color=\"#A997DF\", marker=\"o\", label=\"Val loss\", linestyle=\":\", linewidth=2)\n",
    "    axs.set_ylabel(\"loss\", fontsize=20)\n",
    "    axs.set_xlabel(\"Epochs\", fontsize=20)\n",
    "\n",
    "    roc_axs = axs.twinx()\n",
    "    roc_axs.plot(list(map(lambda x: x, metrics['train_rocs'])), color=\"#BDD9BF\", marker=\"x\", label=\"train roc\", linewidth=2)\n",
    "    roc_axs.plot(list(map(lambda x: x, metrics['val_rocs'])), color=\"#A997DF\", marker=\"x\", label=\"val roc\", linewidth=2)\n",
    "    roc_axs.set_ylabel(\"ROC\", fontsize=20)\n",
    "\n",
    "    # tick size\n",
    "    for tick in axs.xaxis.get_major_ticks():\n",
    "        tick.label.set_fontsize(15)\n",
    "\n",
    "    for tick in axs.yaxis.get_major_ticks():\n",
    "        tick.label.set_fontsize(15)\n",
    "        \n",
    "    for tick in roc_axs.yaxis.get_major_ticks():\n",
    "        tick.label.set_fontsize(15)\n",
    "\n",
    "\n",
    "    # legend\n",
    "    legend = []\n",
    "    legend.append(Line2D([0,1], [1,0], color=\"#BDD9BF\", label=\"Train\", linewidth=5))\n",
    "    legend.append(Line2D([0,1], [1,0], color=\"#A997DF\", label=\"Val\", linewidth=5))\n",
    "    legend.append(Line2D([0,1], [1,0], color=\"black\", label=\"ROC\", linewidth=1))\n",
    "    legend.append(Line2D([0,1], [1,0], color=\"black\", linestyle=\":\",label=\"loss\", linewidth=1))\n",
    "    lgd = fig.legend(handles=legend, ncol=1, fontsize=15, loc=\"center right\", fancybox=True, bbox_to_anchor=(1.0, 0.5, 0.2, 0))\n",
    "    \n",
    "    fig.suptitle(title, fontsize=20)\n",
    "    \n",
    "    return fig, axs\n",
    "\n",
    "plot_metrics(metrics)"
   ]
  },
  {
   "cell_type": "markdown",
   "metadata": {
    "id": "2kKp5lBcZqy-"
   },
   "source": [
    "# 5. Evaluation"
   ]
  },
  {
   "cell_type": "markdown",
   "metadata": {
    "id": "EAx_nBOTZsQh"
   },
   "source": [
    "There are more baseline methods at the following URL: https://github.com/deepchem/moleculenet\n",
    "\n",
    "We will look at AUC of ROC curve. "
   ]
  },
  {
   "cell_type": "code",
   "execution_count": 51,
   "metadata": {},
   "outputs": [
    {
     "name": "stdout",
     "output_type": "stream",
     "text": [
      "ROC AUC score: 0.6754022545524616\n"
     ]
    },
    {
     "data": {
      "text/plain": [
       "<sklearn.metrics._plot.roc_curve.RocCurveDisplay at 0x7f7cd1dffc10>"
      ]
     },
     "execution_count": 51,
     "metadata": {},
     "output_type": "execute_result"
    },
    {
     "data": {
      "image/png": "[encoded data removed]",
      "text/plain": [
       "<Figure size 432x288 with 1 Axes>"
      ]
     },
     "metadata": {
      "needs_background": "light"
     },
     "output_type": "display_data"
    }
   ],
   "source": [
    "from sklearn.metrics import RocCurveDisplay\n",
    "\n",
    "\n",
    "test_data = torch.utils.data.DataLoader(Subdataset(dataset, test_idx), batch_size=128, num_workers=2)\n",
    "\n",
    "y_test, y_pred = [], []\n",
    "for batch in test_data:\n",
    "    x, A, D, EF, Y = [z.to(device) for z in batch]\n",
    "\n",
    "    with torch.no_grad():\n",
    "        outputs = model(x, A, D)\n",
    "        y_pred += outputs.softmax(dim=-1).cpu().numpy().tolist()\n",
    "\n",
    "    y_test += Y.cpu().numpy().tolist()\n",
    "\n",
    "print(f'ROC AUC score: {roc_auc_score(y_true = y_test, y_score= y_pred)}')\n",
    "RocCurveDisplay.from_predictions(y_test, y_pred)"
   ]
  },
  {
   "cell_type": "markdown",
   "metadata": {
    "id": "teCIxJ1QyhIM"
   },
   "source": [
    "# Summary\n"
   ]
  },
  {
   "cell_type": "markdown",
   "metadata": {},
   "source": [
    "We looked at the following\n",
    "- Learned key concepts required to work with molecules\n",
    "- Performed critical data preprocessing tasks, such as feature extraction, graph formation, and scaffold splitting\n",
    "- Explored challenges of drug discovery, particularly designing drugs that can cross the blood-brain barrier and enter the central nervous system\n",
    "- Implemented Molecule Attention Transformer (MAT) proposed by Maziarka et al. (2020) using a deep learning pipeline\n",
    "- Trained and evaluated the model on molecular datasets.\n",
    "\n",
    "Note: We haven't used edge features in our model as Maziarka et al. (2020) noted in section 4.4 that edge features didn't help the models."
   ]
  }
 ],
 "metadata": {
  "accelerator": "GPU",
  "colab": {
   "collapsed_sections": [],
   "provenance": [],
   "toc_visible": true
  },
  "gpuClass": "standard",
  "kernelspec": {
   "display_name": "dlc",
   "language": "python",
   "name": "dlc"
  },
  "language_info": {
   "codemirror_mode": {
    "name": "ipython",
    "version": 3
   },
   "file_extension": ".py",
   "mimetype": "text/x-python",
   "name": "python",
   "nbconvert_exporter": "python",
   "pygments_lexer": "ipython3",
   "version": "3.8.10"
  }
 },
 "nbformat": 4,
 "nbformat_minor": 4
}
