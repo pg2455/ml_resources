{
 "cells": [
  {
   "cell_type": "markdown",
   "metadata": {},
   "source": [
    "# Deep Autoencoders"
   ]
  },
  {
   "cell_type": "markdown",
   "metadata": {},
   "source": [
    "In this notebook, we will explore autoencoders to perform the following three tasks\n",
    "\n",
    "- Data compression\n",
    "- Data generation\n",
    "- Data interpolation\n",
    "\n",
    "We will be using [MNIST digit dataset](https://en.wikipedia.org/wiki/MNIST_database), which is easily available through [`torchvision.datasets`](https://pytorch.org/vision/stable/datasets.html#torchvision.datasets.MNIST). "
   ]
  },
  {
   "cell_type": "markdown",
   "metadata": {},
   "source": [
    "### Setup"
   ]
  },
  {
   "cell_type": "markdown",
   "metadata": {},
   "source": [
    "For this tutorial, we will need the following python packages \n",
    "\n",
    "1. numpy\n",
    "2. matplotlib\n",
    "3. torch\n",
    "4. torchvision\n",
    "\n",
    "Please follow the instructions [here](https://pytorch.org/) to install the last two libraries. "
   ]
  },
  {
   "cell_type": "code",
   "execution_count": 1,
   "metadata": {},
   "outputs": [],
   "source": [
    "# basic imports\n",
    "import numpy as np\n",
    "import matplotlib.pyplot as plt\n",
    "import math\n",
    "import pathlib\n",
    "\n",
    "import torch\n",
    "import torch.nn as nn\n",
    "import torchvision\n",
    "from torchvision import transforms"
   ]
  },
  {
   "cell_type": "markdown",
   "metadata": {},
   "source": [
    "### Data\n",
    "\n",
    "PyTorch has simple-to-use functions that downloads and loads the datasets. We will use these functions to streamline our deep learning pipeline.\n",
    "\n",
    "Checkout other image datasets at [torch.datasets](https://pytorch.org/vision/stable/datasets.html)."
   ]
  },
  {
   "cell_type": "code",
   "execution_count": 2,
   "metadata": {
    "collapsed": true
   },
   "outputs": [
    {
     "name": "stdout",
     "output_type": "stream",
     "text": [
      "Downloading http://yann.lecun.com/exdb/mnist/train-images-idx3-ubyte.gz\n",
      "Downloading http://yann.lecun.com/exdb/mnist/train-images-idx3-ubyte.gz to ./data/MNIST/raw/train-images-idx3-ubyte.gz\n"
     ]
    },
    {
     "name": "stderr",
     "output_type": "stream",
     "text": [
      "100.0%\n"
     ]
    },
    {
     "name": "stdout",
     "output_type": "stream",
     "text": [
      "Extracting ./data/MNIST/raw/train-images-idx3-ubyte.gz to ./data/MNIST/raw\n",
      "\n",
      "Downloading http://yann.lecun.com/exdb/mnist/train-labels-idx1-ubyte.gz\n"
     ]
    },
    {
     "name": "stderr",
     "output_type": "stream",
     "text": [
      "\r",
      "3.5%"
     ]
    },
    {
     "name": "stdout",
     "output_type": "stream",
     "text": [
      "Downloading http://yann.lecun.com/exdb/mnist/train-labels-idx1-ubyte.gz to ./data/MNIST/raw/train-labels-idx1-ubyte.gz\n"
     ]
    },
    {
     "name": "stderr",
     "output_type": "stream",
     "text": [
      "102.8%\n"
     ]
    },
    {
     "name": "stdout",
     "output_type": "stream",
     "text": [
      "Extracting ./data/MNIST/raw/train-labels-idx1-ubyte.gz to ./data/MNIST/raw\n",
      "\n",
      "Downloading http://yann.lecun.com/exdb/mnist/t10k-images-idx3-ubyte.gz\n",
      "Downloading http://yann.lecun.com/exdb/mnist/t10k-images-idx3-ubyte.gz to ./data/MNIST/raw/t10k-images-idx3-ubyte.gz\n"
     ]
    },
    {
     "name": "stderr",
     "output_type": "stream",
     "text": [
      "100.0%\n"
     ]
    },
    {
     "name": "stdout",
     "output_type": "stream",
     "text": [
      "Extracting ./data/MNIST/raw/t10k-images-idx3-ubyte.gz to ./data/MNIST/raw\n",
      "\n",
      "Downloading http://yann.lecun.com/exdb/mnist/t10k-labels-idx1-ubyte.gz\n"
     ]
    },
    {
     "name": "stderr",
     "output_type": "stream",
     "text": [
      "90.2%"
     ]
    },
    {
     "name": "stdout",
     "output_type": "stream",
     "text": [
      "Downloading http://yann.lecun.com/exdb/mnist/t10k-labels-idx1-ubyte.gz to ./data/MNIST/raw/t10k-labels-idx1-ubyte.gz\n"
     ]
    },
    {
     "name": "stderr",
     "output_type": "stream",
     "text": [
      "112.7%\n",
      "/Users/pgupta/anaconda3/envs/py39/lib/python3.9/site-packages/torchvision/datasets/mnist.py:502: UserWarning: The given NumPy array is not writeable, and PyTorch does not support non-writeable tensors. This means you can write to the underlying (supposedly non-writeable) NumPy array using the tensor. You may want to copy the array to protect its data or make it writeable before converting it to a tensor. This type of warning will be suppressed for the rest of this program. (Triggered internally at  ../torch/csrc/utils/tensor_numpy.cpp:143.)\n",
      "  return torch.from_numpy(parsed.astype(m[2], copy=False)).view(*s)\n"
     ]
    },
    {
     "name": "stdout",
     "output_type": "stream",
     "text": [
      "Extracting ./data/MNIST/raw/t10k-labels-idx1-ubyte.gz to ./data/MNIST/raw\n",
      "\n",
      "Processing...\n",
      "Done!\n"
     ]
    },
    {
     "data": {
      "text/plain": [
       "Dataset MNIST\n",
       "    Number of datapoints: 60000\n",
       "    Root location: ./data/\n",
       "    Split: Train"
      ]
     },
     "execution_count": 2,
     "metadata": {},
     "output_type": "execute_result"
    }
   ],
   "source": [
    "# download data in data folder. It will create this folder if it doesn't exist\n",
    "torchvision.datasets.MNIST(root=\"./data/\", download=True)"
   ]
  },
  {
   "cell_type": "markdown",
   "metadata": {},
   "source": [
    "### Explore Data\n",
    "\n",
    "We will be carrying out simple investigations as we did in the practical of denoising autoencoders. \n",
    "Specifically, we are interested in finding out the following :\n",
    "\n",
    "How does the data look like?\n",
    "\n",
    "- What is the `type` of data?\n",
    "- What does each element of data represent?\n",
    "- What are the constituent parts of each element?\n",
    "- How is the image represented?\n",
    "- What do we use to plot an image?\n",
    "- How do we use the image in our model?"
   ]
  },
  {
   "cell_type": "code",
   "execution_count": 4,
   "metadata": {},
   "outputs": [],
   "source": [
    "# load data \n",
    "data = torchvision.datasets.MNIST(root=\"./data/\", train=True) # only load training data"
   ]
  },
  {
   "cell_type": "code",
   "execution_count": 5,
   "metadata": {},
   "outputs": [
    {
     "name": "stdout",
     "output_type": "stream",
     "text": [
      "Type of data is the class\n",
      " <class 'torchvision.datasets.mnist.MNIST'>\n",
      "Each element of the data is\n",
      " <class 'tuple'>\n",
      "A single element is\n",
      " (<PIL.Image.Image image mode=L size=28x28 at 0x131262670>, 5) first element is the image and the second element is the category\n"
     ]
    }
   ],
   "source": [
    "print(\"Type of data is the class\\n\", type(data))\n",
    "print(\"Each element of the data is\\n\", type(data[0]))\n",
    "print(\"A single element is\\n\", data[0],\"first element is the image and the second element is the category\")"
   ]
  },
  {
   "cell_type": "markdown",
   "metadata": {},
   "source": [
    "### Image data\n",
    "\n",
    "We know that the image data is present in `PIL.Image.Image` format. We need to convert it to array of pixel values to operate on it. We will also be displaying these images. `matplotlib.pyplot` has a simple function `plt.imshow()` to display matrix as an image."
   ]
  },
  {
   "cell_type": "code",
   "execution_count": 7,
   "metadata": {},
   "outputs": [
    {
     "name": "stdout",
     "output_type": "stream",
     "text": [
      "Raw image to tensor shape: torch.Size([1, 28, 28])\n",
      "2D image tensor shape: torch.Size([28, 28])\n"
     ]
    },
    {
     "data": {
      "text/plain": [
       "<matplotlib.image.AxesImage at 0x137f72d60>"
      ]
     },
     "execution_count": 7,
     "metadata": {},
     "output_type": "execute_result"
    },
    {
     "data": {
      "image/png": "[encoded data removed]",
      "text/plain": [
       "<Figure size 432x288 with 1 Axes>"
      ]
     },
     "metadata": {
      "needs_background": "light"
     },
     "output_type": "display_data"
    }
   ],
   "source": [
    "img = transforms.ToTensor()(data[10][0])\n",
    "print(f\"Raw image to tensor shape: {img.shape}\")\n",
    "\n",
    "# To plot this, we need a 2D array, so we use squeeze_(0) to remove first dimension\n",
    "img = img.squeeze_(0)\n",
    "print(f\"2D image tensor shape: {img.shape}\")\n",
    "\n",
    "# how to display the image \n",
    "plt.imshow(img)"
   ]
  },
  {
   "cell_type": "code",
   "execution_count": 25,
   "metadata": {},
   "outputs": [
    {
     "data": {
      "image/png": "[encoded data removed]",
      "text/plain": [
       "<Figure size 1200x600 with 20 Axes>"
      ]
     },
     "metadata": {
      "needs_background": "light"
     },
     "output_type": "display_data"
    }
   ],
   "source": [
    "# visualize\n",
    "n_samples = len(data)\n",
    "n_vis = 20\n",
    "\n",
    "nrows = 4\n",
    "ncols = math.ceil(n_vis/nrows)\n",
    "fig, axs = plt.subplots(nrows=nrows, ncols=ncols, figsize=(12,6), dpi=100)\n",
    "\n",
    "idxs = np.random.randint(low=0, high=n_samples, size=n_vis)\n",
    "\n",
    "for i, idx in enumerate(idxs):\n",
    "    ax = axs[i%nrows, i//nrows]\n",
    "    img = transforms.ToTensor()(data[idx][0]).squeeze_(0)\n",
    "    ax.imshow(img)\n",
    "    ax.axis('off')\n",
    "\n",
    "_ = fig.suptitle(f\"Original MNIST dataset\")\n"
   ]
  },
  {
   "cell_type": "code",
   "execution_count": 8,
   "metadata": {},
   "outputs": [],
   "source": [
    "input_shape = img.shape"
   ]
  },
  {
   "cell_type": "markdown",
   "metadata": {},
   "source": [
    "### Data Compression"
   ]
  },
  {
   "cell_type": "markdown",
   "metadata": {},
   "source": [
    "We are interested in finding a compact representation for digits in our dataset. \n",
    "We will choose our latent dimension to be a 2D plane so that it's easy to visualize. \n",
    "However, depending on the usecase (e.g, classification, semi-supervised classification, etc.), one might choose a higher dimensional latent space.\n",
    "\n",
    "To do this, we will build an autoencoder that comprises of an encoder and a decoder. \n",
    "\n",
    "In the following block of code, we will be implementing a simple **encoder**.\n",
    "We will be using linear layers to process our images, although you are free to chose the architecture you like."
   ]
  },
  {
   "cell_type": "code",
   "execution_count": 26,
   "metadata": {},
   "outputs": [],
   "source": [
    "# vanilla autoenocder\n",
    "class Encoder(nn.Module):\n",
    "    def __init__(self, input_shape, latent_dim):\n",
    "        super(Encoder, self).__init__()\n",
    "        \n",
    "        self.input_shape = input_shape \n",
    "        self.output_shape = latent_dim\n",
    "        self.in_dim = input_shape[0] * input_shape[1]\n",
    "\n",
    "        self.layers = nn.Sequential(\n",
    "            nn.Linear(self.in_dim, 64),\n",
    "            nn.ReLU(),\n",
    "            nn.Linear(64, 32),\n",
    "            nn.ReLU(),\n",
    "            nn.Linear(32, 16),\n",
    "            nn.ReLU(),\n",
    "            nn.Linear(16, 2)\n",
    "            )\n",
    "\n",
    "    def forward(self, x):\n",
    "        input = x.reshape(-1, self.in_dim)\n",
    "        return self.layers(input)\n",
    "\n",
    "    def sample(self, x):\n",
    "        # we will implement this in VAE\n",
    "        pass"
   ]
  },
  {
   "cell_type": "markdown",
   "metadata": {},
   "source": [
    "Decoder takes in its input as a vector in the latent space, and it outputs an image in the same space as that of the input. \n",
    "In the following block of code, we will implement a **decoder**.\n"
   ]
  },
  {
   "cell_type": "code",
   "execution_count": 27,
   "metadata": {},
   "outputs": [],
   "source": [
    "class Decoder(nn.Module):\n",
    "    def __init__(self, latent_dim, output_shape):\n",
    "        super(Decoder, self).__init__()\n",
    "        \n",
    "        self.output_shape = output_shape \n",
    "        self.latent_dim = latent_dim \n",
    "        self.out_dim = output_shape[0] * output_shape[1]\n",
    "        \n",
    "        self.layers = nn.Sequential(\n",
    "            nn.Linear(2, 16),\n",
    "            nn.ReLU(),\n",
    "            nn.Linear(16, 32),\n",
    "            nn.ReLU(),\n",
    "            nn.Linear(32, 64),\n",
    "            nn.ReLU(),\n",
    "            nn.Linear(64, self.out_dim),\n",
    "            nn.Sigmoid()\n",
    "            )\n",
    "    \n",
    "    def forward(self, x):\n",
    "        x = x.reshape(-1, self.latent_dim)\n",
    "        return self.layers(x).reshape(-1, self.output_shape[0], self.output_shape[1])"
   ]
  },
  {
   "cell_type": "markdown",
   "metadata": {},
   "source": [
    "Let's put these building blocks together to form an autoencoder"
   ]
  },
  {
   "cell_type": "code",
   "execution_count": 30,
   "metadata": {},
   "outputs": [],
   "source": [
    "class Autoencoder(nn.Module):\n",
    "    def __init__(self, input_shape, latent_dim):\n",
    "        super(Autoencoder, self).__init__()\n",
    "        \n",
    "        self.input_shape = input_shape\n",
    "        self.latent_dim = latent_dim\n",
    "        self.encoder = Encoder(input_shape, latent_dim)\n",
    "        self.decoder = Decoder(latent_dim, input_shape)\n",
    "        \n",
    "    \n",
    "    def forward(self, x):\n",
    "        z = self.encoder(x)\n",
    "        x_hat = self.decoder(z)\n",
    "        return z, x_hat"
   ]
  },
  {
   "cell_type": "code",
   "execution_count": 31,
   "metadata": {},
   "outputs": [],
   "source": [
    "model_ae = Autoencoder(input_shape, 2)"
   ]
  },
  {
   "cell_type": "markdown",
   "metadata": {},
   "source": [
    "### Dataset loading\n",
    "\n",
    "PyTorch uses `torch.utils.data.Dataset` class to load data in parallel on multiple CPUs. It enables faster loading of the batch of data. It then uses `torch.utils.data.DataLoader` to combine these loaded data points together into a batch. These batches are then used as an input to the models.\n",
    "\n",
    "For this reason, we need to customize `__len__` and `__getitem__` functions in the class. This will help us do any necessary preprocessing on the images before using them as an input to the model."
   ]
  },
  {
   "cell_type": "code",
   "execution_count": 37,
   "metadata": {},
   "outputs": [],
   "source": [
    "# create a dataset \n",
    "class Dataset(torch.utils.data.Dataset):\n",
    "    def __init__(self, data):\n",
    "        self.data = data \n",
    "        \n",
    "    def __len__(self):\n",
    "        return len(self.data)\n",
    "    \n",
    "    def __getitem__(self, index):\n",
    "        img = transforms.ToTensor()(self.data[index][0]).squeeze_(0)\n",
    "        return img       "
   ]
  },
  {
   "cell_type": "markdown",
   "metadata": {},
   "source": [
    "### Data splitting\n",
    "\n",
    "We split the training dataset into train and validation. This will help us tune hyperparameters of the model. Note that hyperparameter tuning is not done in this tutorial. "
   ]
  },
  {
   "cell_type": "code",
   "execution_count": 11,
   "metadata": {},
   "outputs": [],
   "source": [
    "# split data into train and val; we will create train_data at the start of every epoch\n",
    "x_train, x_val = torch.utils.data.random_split(data, [54000, 6000])\n",
    "val_data = torch.utils.data.DataLoader(Dataset(x_val), batch_size=256, shuffle=True)"
   ]
  },
  {
   "cell_type": "markdown",
   "metadata": {},
   "source": [
    "### Optimizer \n",
    "\n",
    "We will use the standard Adam optimzer to learn the parameters."
   ]
  },
  {
   "cell_type": "code",
   "execution_count": 12,
   "metadata": {},
   "outputs": [],
   "source": [
    "# define your optimizer. It is just a template. we will define it again later just before startig the training.\n",
    "model = Autoencoder(input_shape)\n",
    "optimizer = torch.optim.Adam(model.parameters())"
   ]
  },
  {
   "cell_type": "markdown",
   "metadata": {},
   "source": [
    "### Loss \n",
    "\n",
    "We will create a function that will take following inputs:\n",
    "\n",
    "1. Autoencoder instance\n",
    "2. `torch.utils.data.DataLoader` instance \n",
    "3. optimizer (optional)\n",
    "\n",
    "This function returns the mean loss on this data. "
   ]
  },
  {
   "cell_type": "code",
   "execution_count": 39,
   "metadata": {},
   "outputs": [],
   "source": [
    "def process(model, data, optimizer=None):\n",
    "    n_samples = 0\n",
    "    running_loss = 0\n",
    "    for img, corrupted_img in data:\n",
    "        # transfer to GPU if avaiable\n",
    "        x = img.to(device)\n",
    "\n",
    "        n_samples += img.shape[0]\n",
    "        \n",
    "        # forward pass\n",
    "        z, x_hat = model(x)\n",
    "        loss = nn.MSELoss()(x, x_hat) # reconstruction loss\n",
    "        \n",
    "        # backward pass \n",
    "        if optimizer is not None:\n",
    "            optimizer.zero_grad()\n",
    "            loss.backward()\n",
    "            optimizer.step()\n",
    "        \n",
    "        running_loss += loss.item()\n",
    "        \n",
    "    return running_loss / n_samples\n",
    "        "
   ]
  },
  {
   "cell_type": "markdown",
   "metadata": {},
   "source": [
    "### Train\n",
    "\n",
    "Finally, we will be running the training for `n_epochs` number of epochs. \n",
    "Each epoch consists of doing a backward pass on the subset of training data and evaluating the model on the validation data. "
   ]
  },
  {
   "cell_type": "markdown",
   "metadata": {},
   "source": [
    "**Note**: If one is concerned with good representation of the training data only (i.e., generalization outside training data is not of concern), we need not split our dataset into train and validation. \n",
    "However, in this tutorial, we will use the validation dataset to pick a model with the best generalization error. \n",
    "\n",
    "We will create a function `train` to conveniently call it with various models and loss functions that we can experiment with. "
   ]
  },
  {
   "cell_type": "code",
   "execution_count": 14,
   "metadata": {
    "scrolled": true
   },
   "outputs": [
    {
     "name": "stdout",
     "output_type": "stream",
     "text": [
      "Using GPU: cuda\n",
      "@ epoch 0\ttrain_loss:  0.00050, val_loss: 0.00015\n",
      "@ epoch 1\ttrain_loss:  0.00024, val_loss: 0.00010\n",
      "@ epoch 2\ttrain_loss:  0.00019, val_loss: 0.00009\n",
      "@ epoch 3\ttrain_loss:  0.00017, val_loss: 0.00009\n",
      "@ epoch 4\ttrain_loss:  0.00017, val_loss: 0.00008\n",
      "@ epoch 5\ttrain_loss:  0.00016, val_loss: 0.00008\n",
      "@ epoch 6\ttrain_loss:  0.00015, val_loss: 0.00008\n",
      "@ epoch 7\ttrain_loss:  0.00015, val_loss: 0.00008\n",
      "@ epoch 8\ttrain_loss:  0.00014, val_loss: 0.00007\n",
      "@ epoch 9\ttrain_loss:  0.00014, val_loss: 0.00007\n",
      "@ epoch 10\ttrain_loss:  0.00014, val_loss: 0.00007\n",
      "@ epoch 11\ttrain_loss:  0.00013, val_loss: 0.00007\n",
      "@ epoch 12\ttrain_loss:  0.00013, val_loss: 0.00007\n",
      "@ epoch 13\ttrain_loss:  0.00013, val_loss: 0.00007\n",
      "@ epoch 14\ttrain_loss:  0.00013, val_loss: 0.00007\n",
      "@ epoch 15\ttrain_loss:  0.00013, val_loss: 0.00007\n",
      "@ epoch 16\ttrain_loss:  0.00012, val_loss: 0.00006\n",
      "@ epoch 17\ttrain_loss:  0.00012, val_loss: 0.00006\n",
      "@ epoch 18\ttrain_loss:  0.00012, val_loss: 0.00006\n",
      "@ epoch 19\ttrain_loss:  0.00012, val_loss: 0.00006\n",
      "@ epoch 20\ttrain_loss:  0.00012, val_loss: 0.00006\n",
      "@ epoch 21\ttrain_loss:  0.00012, val_loss: 0.00006\n",
      "@ epoch 22\ttrain_loss:  0.00011, val_loss: 0.00006\n",
      "@ epoch 23\ttrain_loss:  0.00011, val_loss: 0.00006\n",
      "@ epoch 24\ttrain_loss:  0.00011, val_loss: 0.00006\n",
      "@ epoch 25\ttrain_loss:  0.00011, val_loss: 0.00006\n",
      "@ epoch 26\ttrain_loss:  0.00011, val_loss: 0.00006\n",
      "@ epoch 27\ttrain_loss:  0.00011, val_loss: 0.00006\n",
      "@ epoch 28\ttrain_loss:  0.00011, val_loss: 0.00006\n",
      "@ epoch 29\ttrain_loss:  0.00011, val_loss: 0.00006\n",
      "best val loss: 0.00006\n"
     ]
    }
   ],
   "source": [
    "def train(model, train_data, optimizer, process, title=\"\")\n",
    "    \"\"\"\n",
    "    Args:\n",
    "        model (nn.Module): model to process the data\n",
    "        data (torchvision.datasets): MNIST dataset\n",
    "        optimizer (torch.optim): Optimizer of choice \n",
    "        process (fn): function defining how each epoch is handled\n",
    "    \n",
    "    Returns:\n",
    "        best_model (nn.Module): returns the model with the best training loss \n",
    "        loss_plot (matplotlib.subplots): a plot for how training loss varied over the epochs\n",
    "    \"\"\"\n",
    "    # fix seed for reproducibility \n",
    "    rng = np.random.RandomState(1)\n",
    "    torch.manual_seed(rng.randint(np.iinfo(int).max))\n",
    "    \n",
    "    if torch.cuda.is_available():\n",
    "        device = torch.device(\"cuda\")\n",
    "        print(\"Using GPU:\", device)\n",
    "    else:\n",
    "        device = torch.device(\"cpu\")\n",
    "        print(\"No GPU -> using CPU:\", device)\n",
    "\n",
    "    # create a model directory to store the best model\n",
    "    model_dir = pathlib.Path(\"./models\").resolve()\n",
    "    if not model_dir.exists():\n",
    "        model_dir.mkdir()\n",
    "\n",
    "    model = Autoencoder(input_shape).to(device)\n",
    "    optimizer = torch.optim.Adam(model.parameters(),lr=0.001)\n",
    "\n",
    "    epoch_size=200\n",
    "    batch_size=128\n",
    "    n_epochs = 30\n",
    "    \n",
    "    best_val_loss = np.inf\n",
    "    no_improvement_cnt = 0 # early stopping\n",
    "    val_losses = []\n",
    "    train_losses = []\n",
    "    for epoch in range(n_epochs):\n",
    "        print(f\"@ epoch {epoch}\", end=\"\")\n",
    "\n",
    "        # training loss\n",
    "        idxs = rng.choice(len(x_train), epoch_size * batch_size, replace=True)\n",
    "        train_data = torch.utils.data.DataLoader(Dataset([train_data[idx] for idx in idxs]), batch_size=batch_size, num_workers=4)\n",
    "        train_loss = process(model, train_data, optimizer)\n",
    "        \n",
    "        # evaluate\n",
    "        with torch.no_grad():\n",
    "            val_loss = process(model, val_data)\n",
    "        \n",
    "        # save the best model\n",
    "        if val_loss < best_val_loss:\n",
    "            best_val_loss = val_loss\n",
    "            torch.save(model.state_dict(), model_dir / \"best.ckpt\")\n",
    "        else:\n",
    "\n",
    "            # if there has been no improvement in validation loss, stop early\n",
    "            no_improvement_cnt += 1\n",
    "\n",
    "            if no_improvement_cnt % 10 == 0:\n",
    "                print(\"\\nEarly stopping!\")\n",
    "                break\n",
    "    \n",
    "        # logging\n",
    "        val_losses.append(val_loss)\n",
    "        train_losses.append(train_loss)\n",
    "        print(f\"\\ttrain_loss: {train_loss: .5f} val_loss: {val_loss: .5f}\")\n",
    "\n",
    "    # load the best model\n",
    "    model = model.__class__(model.input_shape, model.latent_dim)\n",
    "    model.load_state_dict(torch.load(model_dir / \"best.ckpt\"))\n",
    "    model = model.to(device)\n",
    "\n",
    "\n",
    "    # plot losses\n",
    "    fig, axs = plt.subplots(nrows=1, ncols=1, figsize=(10,5), dpi=100)\n",
    "\n",
    "    axs.plot(train_losses, color=\"#BDD9BF\", marker=\"x\", label=\"Train loss\")\n",
    "    axs.plot(val_losses, color=\"#A997DF\", marker=\"o\",, label=\"Val loss\")\n",
    "    axs.set_xlabel(\"Epochs\", fontsize=20)\n",
    "    axs.legend(prop={\"size\":15})\n",
    "\n",
    "    # tick size\n",
    "    for tick in axs.xaxis.get_major_ticks():\n",
    "        tick.label.set_fontsize(15)\n",
    "\n",
    "    for tick in axs.yaxis.get_major_ticks():\n",
    "        tick.label.set_fontsize(15)\n",
    "        \n",
    "    fig.suptitle(f\"{title}\")\n",
    "\n",
    "    return model"
   ]
  },
  {
   "cell_type": "markdown",
   "metadata": {},
   "source": [
    "### Data Generation"
   ]
  },
  {
   "cell_type": "code",
   "execution_count": null,
   "metadata": {},
   "outputs": [],
   "source": []
  },
  {
   "cell_type": "markdown",
   "metadata": {},
   "source": [
    "### Data Interpolation"
   ]
  }
 ],
 "metadata": {
  "kernelspec": {
   "display_name": "Python 3",
   "language": "python",
   "name": "python3"
  },
  "language_info": {
   "codemirror_mode": {
    "name": "ipython",
    "version": 3
   },
   "file_extension": ".py",
   "mimetype": "text/x-python",
   "name": "python",
   "nbconvert_exporter": "python",
   "pygments_lexer": "ipython3",
   "version": "3.9.0"
  }
 },
 "nbformat": 4,
 "nbformat_minor": 2
}
